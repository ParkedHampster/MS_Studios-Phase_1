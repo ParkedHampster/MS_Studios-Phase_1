{
 "cells": [
  {
   "cell_type": "markdown",
   "id": "49ee492b",
   "metadata": {},
   "source": [
    "# Microsoft Movie Studios Initial Pitch"
   ]
  },
  {
   "attachments": {},
   "cell_type": "markdown",
   "id": "de61117e",
   "metadata": {},
   "source": [
    "![Microsoft HQ, Redmond, WA](images/microsoft_hq.png)\n",
    "\n",
    "<sup>(source. https://microsoft.com)</sup>"
   ]
  },
  {
   "cell_type": "markdown",
   "id": "e8568b29",
   "metadata": {},
   "source": [
    "## Overview\n",
    "This project reviews data from IMDB and TheNumbers.com to find the potential most equitable actions that can be taken to produce equitable content by looking at director history, reviewing the domestic, foreign, and global markets, and analyzing budgets against profit margins."
   ]
  },
  {
   "cell_type": "markdown",
   "id": "c11135dc",
   "metadata": {},
   "source": [
    "## Business Understanding\n",
    "Microsoft is looking to produce original video content by opening a new studio. The studio is looking to start off strong with high-value titles from the beginning and justify the studio's initial cost to open."
   ]
  },
  {
   "attachments": {},
   "cell_type": "markdown",
   "id": "3927cd09",
   "metadata": {},
   "source": [
    "## Data Understanding\n",
    "\n",
    "IMDB is one of the biggest and detailed database on movie data. We specifically focused on movie_basics, movie_akas, directors, and persons table from IMDB. Budget data was taken from TheNumbers which provided data on production budget, domestic gross earnings, and worldwide gross earnings. \n",
    "\n",
    "We believe that the \"success\" of a film can be measured by the revenue that it brings in and some big variables that affect the success of a film's directors, the film's market, and the film's budget."
   ]
  },
  {
   "cell_type": "markdown",
   "id": "0337ba12",
   "metadata": {},
   "source": [
    "### IMPORTS AND DATA"
   ]
  },
  {
   "cell_type": "code",
   "execution_count": 7,
   "id": "28c1ccde",
   "metadata": {},
   "outputs": [],
   "source": [
    "import pandas as pd\n",
    "import matplotlib.pyplot as plt\n",
    "import matplotlib.ticker as mticker\n",
    "import sqlite3\n",
    "import numpy as np\n",
    "import seaborn as sns\n",
    "%matplotlib inline"
   ]
  },
  {
   "cell_type": "markdown",
   "id": "bb42c3a7",
   "metadata": {},
   "source": [
    "### Set Plot and Display Defaults"
   ]
  },
  {
   "cell_type": "code",
   "execution_count": 8,
   "id": "bc8ba55e",
   "metadata": {},
   "outputs": [],
   "source": [
    "pd.options.display.float_format = '{:20,.2f}'.format\n",
    "sns.set_theme()\n",
    "sns.set_palette('colorblind')\n",
    "\n",
    "plt.rcParams['axes.labelsize'] = 14\n",
    "plt.rcParams['axes.titlesize'] = 16"
   ]
  },
  {
   "cell_type": "markdown",
   "id": "96c51d9d",
   "metadata": {},
   "source": [
    "TheNumbers has an extensive database of movies matched to their budgets and gross revenues."
   ]
  },
  {
   "cell_type": "code",
   "execution_count": 9,
   "id": "0845258f",
   "metadata": {},
   "outputs": [
    {
     "data": {
      "text/html": [
       "<div>\n",
       "<style scoped>\n",
       "    .dataframe tbody tr th:only-of-type {\n",
       "        vertical-align: middle;\n",
       "    }\n",
       "\n",
       "    .dataframe tbody tr th {\n",
       "        vertical-align: top;\n",
       "    }\n",
       "\n",
       "    .dataframe thead th {\n",
       "        text-align: right;\n",
       "    }\n",
       "</style>\n",
       "<table border=\"1\" class=\"dataframe\">\n",
       "  <thead>\n",
       "    <tr style=\"text-align: right;\">\n",
       "      <th></th>\n",
       "      <th>id</th>\n",
       "      <th>release_date</th>\n",
       "      <th>movie</th>\n",
       "      <th>production_budget</th>\n",
       "      <th>domestic_gross</th>\n",
       "      <th>worldwide_gross</th>\n",
       "    </tr>\n",
       "  </thead>\n",
       "  <tbody>\n",
       "    <tr>\n",
       "      <th>0</th>\n",
       "      <td>1</td>\n",
       "      <td>Dec 18, 2009</td>\n",
       "      <td>Avatar</td>\n",
       "      <td>$425,000,000</td>\n",
       "      <td>$760,507,625</td>\n",
       "      <td>$2,776,345,279</td>\n",
       "    </tr>\n",
       "    <tr>\n",
       "      <th>1</th>\n",
       "      <td>2</td>\n",
       "      <td>May 20, 2011</td>\n",
       "      <td>Pirates of the Caribbean: On Stranger Tides</td>\n",
       "      <td>$410,600,000</td>\n",
       "      <td>$241,063,875</td>\n",
       "      <td>$1,045,663,875</td>\n",
       "    </tr>\n",
       "    <tr>\n",
       "      <th>2</th>\n",
       "      <td>3</td>\n",
       "      <td>Jun 7, 2019</td>\n",
       "      <td>Dark Phoenix</td>\n",
       "      <td>$350,000,000</td>\n",
       "      <td>$42,762,350</td>\n",
       "      <td>$149,762,350</td>\n",
       "    </tr>\n",
       "    <tr>\n",
       "      <th>3</th>\n",
       "      <td>4</td>\n",
       "      <td>May 1, 2015</td>\n",
       "      <td>Avengers: Age of Ultron</td>\n",
       "      <td>$330,600,000</td>\n",
       "      <td>$459,005,868</td>\n",
       "      <td>$1,403,013,963</td>\n",
       "    </tr>\n",
       "    <tr>\n",
       "      <th>4</th>\n",
       "      <td>5</td>\n",
       "      <td>Dec 15, 2017</td>\n",
       "      <td>Star Wars Ep. VIII: The Last Jedi</td>\n",
       "      <td>$317,000,000</td>\n",
       "      <td>$620,181,382</td>\n",
       "      <td>$1,316,721,747</td>\n",
       "    </tr>\n",
       "  </tbody>\n",
       "</table>\n",
       "</div>"
      ],
      "text/plain": [
       "   id  release_date                                        movie  \\\n",
       "0   1  Dec 18, 2009                                       Avatar   \n",
       "1   2  May 20, 2011  Pirates of the Caribbean: On Stranger Tides   \n",
       "2   3   Jun 7, 2019                                 Dark Phoenix   \n",
       "3   4   May 1, 2015                      Avengers: Age of Ultron   \n",
       "4   5  Dec 15, 2017            Star Wars Ep. VIII: The Last Jedi   \n",
       "\n",
       "  production_budget domestic_gross worldwide_gross  \n",
       "0      $425,000,000   $760,507,625  $2,776,345,279  \n",
       "1      $410,600,000   $241,063,875  $1,045,663,875  \n",
       "2      $350,000,000    $42,762,350    $149,762,350  \n",
       "3      $330,600,000   $459,005,868  $1,403,013,963  \n",
       "4      $317,000,000   $620,181,382  $1,316,721,747  "
      ]
     },
     "metadata": {},
     "output_type": "display_data"
    },
    {
     "name": "stdout",
     "output_type": "stream",
     "text": [
      "<class 'pandas.core.frame.DataFrame'>\n",
      "RangeIndex: 5782 entries, 0 to 5781\n",
      "Data columns (total 6 columns):\n",
      " #   Column             Non-Null Count  Dtype \n",
      "---  ------             --------------  ----- \n",
      " 0   id                 5782 non-null   int64 \n",
      " 1   release_date       5782 non-null   object\n",
      " 2   movie              5782 non-null   object\n",
      " 3   production_budget  5782 non-null   object\n",
      " 4   domestic_gross     5782 non-null   object\n",
      " 5   worldwide_gross    5782 non-null   object\n",
      "dtypes: int64(1), object(5)\n",
      "memory usage: 271.2+ KB\n"
     ]
    },
    {
     "data": {
      "text/plain": [
       "None"
      ]
     },
     "metadata": {},
     "output_type": "display_data"
    }
   ],
   "source": [
    "budgets_df = pd.read_csv('data/tn.movie_budgets.csv.gz')\n",
    "display(budgets_df.head())\n",
    "display(budgets_df.info())"
   ]
  },
  {
   "cell_type": "markdown",
   "id": "8cd4b022",
   "metadata": {},
   "source": [
    "### IMDB's Database Schema\n",
    "IMDB has one of the largest databases of movies available.\n",
    "\n",
    "Data used here include basic movie information (movie_basics), alternative movie titles (movie_akas), and movie directors and their respective names (directors & persons).\n",
    "\n",
    "![database schema flow chart](./images/db_schema.jpeg)"
   ]
  },
  {
   "cell_type": "code",
   "execution_count": 10,
   "id": "5f3cd289",
   "metadata": {},
   "outputs": [],
   "source": [
    "#########################################\n",
    "# IM.DB MUST BE UNZIPPED IN THE ./data/ #\n",
    "#   FOLDER IN ORDER TO CONNECT TO IT!   #\n",
    "#########################################\n",
    "\n",
    "conn = sqlite3.connect('./data/im.db')"
   ]
  },
  {
   "cell_type": "code",
   "execution_count": 11,
   "id": "43ee6eb9",
   "metadata": {},
   "outputs": [
    {
     "data": {
      "text/html": [
       "<div>\n",
       "<style scoped>\n",
       "    .dataframe tbody tr th:only-of-type {\n",
       "        vertical-align: middle;\n",
       "    }\n",
       "\n",
       "    .dataframe tbody tr th {\n",
       "        vertical-align: top;\n",
       "    }\n",
       "\n",
       "    .dataframe thead th {\n",
       "        text-align: right;\n",
       "    }\n",
       "</style>\n",
       "<table border=\"1\" class=\"dataframe\">\n",
       "  <thead>\n",
       "    <tr style=\"text-align: right;\">\n",
       "      <th></th>\n",
       "      <th>movie_id</th>\n",
       "      <th>primary_title</th>\n",
       "      <th>original_title</th>\n",
       "      <th>start_year</th>\n",
       "      <th>runtime_minutes</th>\n",
       "      <th>genres</th>\n",
       "    </tr>\n",
       "  </thead>\n",
       "  <tbody>\n",
       "    <tr>\n",
       "      <th>0</th>\n",
       "      <td>tt0063540</td>\n",
       "      <td>Sunghursh</td>\n",
       "      <td>Sunghursh</td>\n",
       "      <td>2013</td>\n",
       "      <td>175.00</td>\n",
       "      <td>Action,Crime,Drama</td>\n",
       "    </tr>\n",
       "    <tr>\n",
       "      <th>1</th>\n",
       "      <td>tt0066787</td>\n",
       "      <td>One Day Before the Rainy Season</td>\n",
       "      <td>Ashad Ka Ek Din</td>\n",
       "      <td>2019</td>\n",
       "      <td>114.00</td>\n",
       "      <td>Biography,Drama</td>\n",
       "    </tr>\n",
       "    <tr>\n",
       "      <th>2</th>\n",
       "      <td>tt0069049</td>\n",
       "      <td>The Other Side of the Wind</td>\n",
       "      <td>The Other Side of the Wind</td>\n",
       "      <td>2018</td>\n",
       "      <td>122.00</td>\n",
       "      <td>Drama</td>\n",
       "    </tr>\n",
       "    <tr>\n",
       "      <th>3</th>\n",
       "      <td>tt0069204</td>\n",
       "      <td>Sabse Bada Sukh</td>\n",
       "      <td>Sabse Bada Sukh</td>\n",
       "      <td>2018</td>\n",
       "      <td>nan</td>\n",
       "      <td>Comedy,Drama</td>\n",
       "    </tr>\n",
       "    <tr>\n",
       "      <th>4</th>\n",
       "      <td>tt0100275</td>\n",
       "      <td>The Wandering Soap Opera</td>\n",
       "      <td>La Telenovela Errante</td>\n",
       "      <td>2017</td>\n",
       "      <td>80.00</td>\n",
       "      <td>Comedy,Drama,Fantasy</td>\n",
       "    </tr>\n",
       "  </tbody>\n",
       "</table>\n",
       "</div>"
      ],
      "text/plain": [
       "    movie_id                    primary_title              original_title  \\\n",
       "0  tt0063540                        Sunghursh                   Sunghursh   \n",
       "1  tt0066787  One Day Before the Rainy Season             Ashad Ka Ek Din   \n",
       "2  tt0069049       The Other Side of the Wind  The Other Side of the Wind   \n",
       "3  tt0069204                  Sabse Bada Sukh             Sabse Bada Sukh   \n",
       "4  tt0100275         The Wandering Soap Opera       La Telenovela Errante   \n",
       "\n",
       "   start_year      runtime_minutes                genres  \n",
       "0        2013               175.00    Action,Crime,Drama  \n",
       "1        2019               114.00       Biography,Drama  \n",
       "2        2018               122.00                 Drama  \n",
       "3        2018                  nan          Comedy,Drama  \n",
       "4        2017                80.00  Comedy,Drama,Fantasy  "
      ]
     },
     "metadata": {},
     "output_type": "display_data"
    },
    {
     "name": "stdout",
     "output_type": "stream",
     "text": [
      "<class 'pandas.core.frame.DataFrame'>\n",
      "RangeIndex: 107602 entries, 0 to 107601\n",
      "Data columns (total 6 columns):\n",
      " #   Column           Non-Null Count   Dtype  \n",
      "---  ------           --------------   -----  \n",
      " 0   movie_id         107602 non-null  object \n",
      " 1   primary_title    107602 non-null  object \n",
      " 2   original_title   107582 non-null  object \n",
      " 3   start_year       107602 non-null  int64  \n",
      " 4   runtime_minutes  82307 non-null   float64\n",
      " 5   genres           103491 non-null  object \n",
      "dtypes: float64(1), int64(1), object(4)\n",
      "memory usage: 4.9+ MB\n"
     ]
    },
    {
     "data": {
      "text/plain": [
       "None"
      ]
     },
     "metadata": {},
     "output_type": "display_data"
    }
   ],
   "source": [
    "recent_imdb_movies = pd.read_sql(\"\"\"\n",
    "SELECT * \n",
    "FROM movie_basics\n",
    "WHERE CAST(start_year AS int) BETWEEN 2013 AND 2023\n",
    "\"\"\", conn)\n",
    "display(recent_imdb_movies.head())\n",
    "display(recent_imdb_movies.info())"
   ]
  },
  {
   "cell_type": "code",
   "execution_count": 12,
   "id": "7b683225",
   "metadata": {},
   "outputs": [
    {
     "data": {
      "text/html": [
       "<div>\n",
       "<style scoped>\n",
       "    .dataframe tbody tr th:only-of-type {\n",
       "        vertical-align: middle;\n",
       "    }\n",
       "\n",
       "    .dataframe tbody tr th {\n",
       "        vertical-align: top;\n",
       "    }\n",
       "\n",
       "    .dataframe thead th {\n",
       "        text-align: right;\n",
       "    }\n",
       "</style>\n",
       "<table border=\"1\" class=\"dataframe\">\n",
       "  <thead>\n",
       "    <tr style=\"text-align: right;\">\n",
       "      <th></th>\n",
       "      <th>movie_id</th>\n",
       "      <th>ordering</th>\n",
       "      <th>title</th>\n",
       "      <th>region</th>\n",
       "      <th>language</th>\n",
       "      <th>types</th>\n",
       "      <th>attributes</th>\n",
       "      <th>is_original_title</th>\n",
       "    </tr>\n",
       "  </thead>\n",
       "  <tbody>\n",
       "    <tr>\n",
       "      <th>0</th>\n",
       "      <td>tt0369610</td>\n",
       "      <td>10</td>\n",
       "      <td>Джурасик свят</td>\n",
       "      <td>BG</td>\n",
       "      <td>bg</td>\n",
       "      <td>None</td>\n",
       "      <td>None</td>\n",
       "      <td>0.00</td>\n",
       "    </tr>\n",
       "    <tr>\n",
       "      <th>1</th>\n",
       "      <td>tt0369610</td>\n",
       "      <td>11</td>\n",
       "      <td>Jurashikku warudo</td>\n",
       "      <td>JP</td>\n",
       "      <td>None</td>\n",
       "      <td>imdbDisplay</td>\n",
       "      <td>None</td>\n",
       "      <td>0.00</td>\n",
       "    </tr>\n",
       "    <tr>\n",
       "      <th>2</th>\n",
       "      <td>tt0369610</td>\n",
       "      <td>12</td>\n",
       "      <td>Jurassic World: O Mundo dos Dinossauros</td>\n",
       "      <td>BR</td>\n",
       "      <td>None</td>\n",
       "      <td>imdbDisplay</td>\n",
       "      <td>None</td>\n",
       "      <td>0.00</td>\n",
       "    </tr>\n",
       "    <tr>\n",
       "      <th>3</th>\n",
       "      <td>tt0369610</td>\n",
       "      <td>13</td>\n",
       "      <td>O Mundo dos Dinossauros</td>\n",
       "      <td>BR</td>\n",
       "      <td>None</td>\n",
       "      <td>None</td>\n",
       "      <td>short title</td>\n",
       "      <td>0.00</td>\n",
       "    </tr>\n",
       "    <tr>\n",
       "      <th>4</th>\n",
       "      <td>tt0369610</td>\n",
       "      <td>14</td>\n",
       "      <td>Jurassic World</td>\n",
       "      <td>FR</td>\n",
       "      <td>None</td>\n",
       "      <td>imdbDisplay</td>\n",
       "      <td>None</td>\n",
       "      <td>0.00</td>\n",
       "    </tr>\n",
       "  </tbody>\n",
       "</table>\n",
       "</div>"
      ],
      "text/plain": [
       "    movie_id  ordering                                    title region  \\\n",
       "0  tt0369610        10                            Джурасик свят     BG   \n",
       "1  tt0369610        11                        Jurashikku warudo     JP   \n",
       "2  tt0369610        12  Jurassic World: O Mundo dos Dinossauros     BR   \n",
       "3  tt0369610        13                  O Mundo dos Dinossauros     BR   \n",
       "4  tt0369610        14                           Jurassic World     FR   \n",
       "\n",
       "  language        types   attributes    is_original_title  \n",
       "0       bg         None         None                 0.00  \n",
       "1     None  imdbDisplay         None                 0.00  \n",
       "2     None  imdbDisplay         None                 0.00  \n",
       "3     None         None  short title                 0.00  \n",
       "4     None  imdbDisplay         None                 0.00  "
      ]
     },
     "metadata": {},
     "output_type": "display_data"
    },
    {
     "name": "stdout",
     "output_type": "stream",
     "text": [
      "<class 'pandas.core.frame.DataFrame'>\n",
      "RangeIndex: 331703 entries, 0 to 331702\n",
      "Data columns (total 8 columns):\n",
      " #   Column             Non-Null Count   Dtype  \n",
      "---  ------             --------------   -----  \n",
      " 0   movie_id           331703 non-null  object \n",
      " 1   ordering           331703 non-null  int64  \n",
      " 2   title              331703 non-null  object \n",
      " 3   region             278410 non-null  object \n",
      " 4   language           41715 non-null   object \n",
      " 5   types              168447 non-null  object \n",
      " 6   attributes         14925 non-null   object \n",
      " 7   is_original_title  331678 non-null  float64\n",
      "dtypes: float64(1), int64(1), object(6)\n",
      "memory usage: 20.2+ MB\n"
     ]
    },
    {
     "data": {
      "text/plain": [
       "None"
      ]
     },
     "metadata": {},
     "output_type": "display_data"
    }
   ],
   "source": [
    "movie_akas = pd.read_sql(\"\"\"\n",
    "SELECT *\n",
    "FROM movie_akas\n",
    "\"\"\", conn)\n",
    "display(movie_akas.head())\n",
    "display(movie_akas.info())"
   ]
  },
  {
   "cell_type": "markdown",
   "id": "6215276d",
   "metadata": {},
   "source": [
    "Since the directors table only has movie_id and person_id, we join the directors using their person_id to get their names"
   ]
  },
  {
   "cell_type": "code",
   "execution_count": 13,
   "id": "9355005d",
   "metadata": {},
   "outputs": [],
   "source": [
    "imdb_directors = pd.read_sql(\"\"\"\n",
    "SELECT DISTINCT d.movie_id, p.person_id, p.primary_name \n",
    "FROM persons as p\n",
    "INNER JOIN directors AS d\n",
    "    ON d.person_id = p.person_id\n",
    "\"\"\", conn)"
   ]
  },
  {
   "cell_type": "markdown",
   "id": "a77da663",
   "metadata": {},
   "source": [
    "## Data Preparation"
   ]
  },
  {
   "cell_type": "markdown",
   "id": "4a39e3c4",
   "metadata": {},
   "source": [
    "### Matching TheNumbers data to IMDB\n",
    "Use a list of all IMDB titles to match movie IDs from IMDB to movie titles from TheNumbers."
   ]
  },
  {
   "cell_type": "code",
   "execution_count": 14,
   "id": "81c4e38d",
   "metadata": {},
   "outputs": [],
   "source": [
    "movie_akas = pd.read_sql(\"\"\"\n",
    "SELECT DISTINCT movie_id, title FROM movie_akas\n",
    "\"\"\",conn)"
   ]
  },
  {
   "cell_type": "code",
   "execution_count": 15,
   "id": "f7627b82",
   "metadata": {},
   "outputs": [],
   "source": [
    "movie_akas_list = list(movie_akas['title'])\n",
    "movie_ids_list = list(movie_akas['movie_id'])"
   ]
  },
  {
   "cell_type": "markdown",
   "id": "cae12d5e",
   "metadata": {},
   "source": [
    "Since directors are a key part of the calculation, we need to associate movie_ids to movies in order to pair the two together through IMDB"
   ]
  },
  {
   "cell_type": "code",
   "execution_count": 16,
   "id": "ed6fbac8",
   "metadata": {},
   "outputs": [
    {
     "data": {
      "text/html": [
       "<div>\n",
       "<style scoped>\n",
       "    .dataframe tbody tr th:only-of-type {\n",
       "        vertical-align: middle;\n",
       "    }\n",
       "\n",
       "    .dataframe tbody tr th {\n",
       "        vertical-align: top;\n",
       "    }\n",
       "\n",
       "    .dataframe thead th {\n",
       "        text-align: right;\n",
       "    }\n",
       "</style>\n",
       "<table border=\"1\" class=\"dataframe\">\n",
       "  <thead>\n",
       "    <tr style=\"text-align: right;\">\n",
       "      <th></th>\n",
       "      <th>id</th>\n",
       "      <th>release_date</th>\n",
       "      <th>movie</th>\n",
       "      <th>production_budget</th>\n",
       "      <th>domestic_gross</th>\n",
       "      <th>worldwide_gross</th>\n",
       "      <th>movie_id</th>\n",
       "    </tr>\n",
       "  </thead>\n",
       "  <tbody>\n",
       "    <tr>\n",
       "      <th>0</th>\n",
       "      <td>1</td>\n",
       "      <td>Dec 18, 2009</td>\n",
       "      <td>Avatar</td>\n",
       "      <td>$425,000,000</td>\n",
       "      <td>$760,507,625</td>\n",
       "      <td>$2,776,345,279</td>\n",
       "      <td>tt1775309</td>\n",
       "    </tr>\n",
       "    <tr>\n",
       "      <th>1</th>\n",
       "      <td>2</td>\n",
       "      <td>May 20, 2011</td>\n",
       "      <td>Pirates of the Caribbean: On Stranger Tides</td>\n",
       "      <td>$410,600,000</td>\n",
       "      <td>$241,063,875</td>\n",
       "      <td>$1,045,663,875</td>\n",
       "      <td>tt1298650</td>\n",
       "    </tr>\n",
       "    <tr>\n",
       "      <th>2</th>\n",
       "      <td>3</td>\n",
       "      <td>Jun 7, 2019</td>\n",
       "      <td>Dark Phoenix</td>\n",
       "      <td>$350,000,000</td>\n",
       "      <td>$42,762,350</td>\n",
       "      <td>$149,762,350</td>\n",
       "      <td>tt6565702</td>\n",
       "    </tr>\n",
       "    <tr>\n",
       "      <th>3</th>\n",
       "      <td>4</td>\n",
       "      <td>May 1, 2015</td>\n",
       "      <td>Avengers: Age of Ultron</td>\n",
       "      <td>$330,600,000</td>\n",
       "      <td>$459,005,868</td>\n",
       "      <td>$1,403,013,963</td>\n",
       "      <td>tt2395427</td>\n",
       "    </tr>\n",
       "    <tr>\n",
       "      <th>4</th>\n",
       "      <td>5</td>\n",
       "      <td>Dec 15, 2017</td>\n",
       "      <td>Star Wars Ep. VIII: The Last Jedi</td>\n",
       "      <td>$317,000,000</td>\n",
       "      <td>$620,181,382</td>\n",
       "      <td>$1,316,721,747</td>\n",
       "      <td>None</td>\n",
       "    </tr>\n",
       "    <tr>\n",
       "      <th>...</th>\n",
       "      <td>...</td>\n",
       "      <td>...</td>\n",
       "      <td>...</td>\n",
       "      <td>...</td>\n",
       "      <td>...</td>\n",
       "      <td>...</td>\n",
       "      <td>...</td>\n",
       "    </tr>\n",
       "    <tr>\n",
       "      <th>5777</th>\n",
       "      <td>78</td>\n",
       "      <td>Dec 31, 2018</td>\n",
       "      <td>Red 11</td>\n",
       "      <td>$7,000</td>\n",
       "      <td>$0</td>\n",
       "      <td>$0</td>\n",
       "      <td>tt7837402</td>\n",
       "    </tr>\n",
       "    <tr>\n",
       "      <th>5778</th>\n",
       "      <td>79</td>\n",
       "      <td>Apr 2, 1999</td>\n",
       "      <td>Following</td>\n",
       "      <td>$6,000</td>\n",
       "      <td>$48,482</td>\n",
       "      <td>$240,495</td>\n",
       "      <td>None</td>\n",
       "    </tr>\n",
       "    <tr>\n",
       "      <th>5779</th>\n",
       "      <td>80</td>\n",
       "      <td>Jul 13, 2005</td>\n",
       "      <td>Return to the Land of Wonders</td>\n",
       "      <td>$5,000</td>\n",
       "      <td>$1,338</td>\n",
       "      <td>$1,338</td>\n",
       "      <td>None</td>\n",
       "    </tr>\n",
       "    <tr>\n",
       "      <th>5780</th>\n",
       "      <td>81</td>\n",
       "      <td>Sep 29, 2015</td>\n",
       "      <td>A Plague So Pleasant</td>\n",
       "      <td>$1,400</td>\n",
       "      <td>$0</td>\n",
       "      <td>$0</td>\n",
       "      <td>tt2107644</td>\n",
       "    </tr>\n",
       "    <tr>\n",
       "      <th>5781</th>\n",
       "      <td>82</td>\n",
       "      <td>Aug 5, 2005</td>\n",
       "      <td>My Date With Drew</td>\n",
       "      <td>$1,100</td>\n",
       "      <td>$181,041</td>\n",
       "      <td>$181,041</td>\n",
       "      <td>None</td>\n",
       "    </tr>\n",
       "  </tbody>\n",
       "</table>\n",
       "<p>5782 rows × 7 columns</p>\n",
       "</div>"
      ],
      "text/plain": [
       "      id  release_date                                        movie  \\\n",
       "0      1  Dec 18, 2009                                       Avatar   \n",
       "1      2  May 20, 2011  Pirates of the Caribbean: On Stranger Tides   \n",
       "2      3   Jun 7, 2019                                 Dark Phoenix   \n",
       "3      4   May 1, 2015                      Avengers: Age of Ultron   \n",
       "4      5  Dec 15, 2017            Star Wars Ep. VIII: The Last Jedi   \n",
       "...   ..           ...                                          ...   \n",
       "5777  78  Dec 31, 2018                                       Red 11   \n",
       "5778  79   Apr 2, 1999                                    Following   \n",
       "5779  80  Jul 13, 2005                Return to the Land of Wonders   \n",
       "5780  81  Sep 29, 2015                         A Plague So Pleasant   \n",
       "5781  82   Aug 5, 2005                            My Date With Drew   \n",
       "\n",
       "     production_budget domestic_gross worldwide_gross   movie_id  \n",
       "0         $425,000,000   $760,507,625  $2,776,345,279  tt1775309  \n",
       "1         $410,600,000   $241,063,875  $1,045,663,875  tt1298650  \n",
       "2         $350,000,000    $42,762,350    $149,762,350  tt6565702  \n",
       "3         $330,600,000   $459,005,868  $1,403,013,963  tt2395427  \n",
       "4         $317,000,000   $620,181,382  $1,316,721,747       None  \n",
       "...                ...            ...             ...        ...  \n",
       "5777            $7,000             $0              $0  tt7837402  \n",
       "5778            $6,000        $48,482        $240,495       None  \n",
       "5779            $5,000         $1,338          $1,338       None  \n",
       "5780            $1,400             $0              $0  tt2107644  \n",
       "5781            $1,100       $181,041        $181,041       None  \n",
       "\n",
       "[5782 rows x 7 columns]"
      ]
     },
     "execution_count": 16,
     "metadata": {},
     "output_type": "execute_result"
    }
   ],
   "source": [
    "budgets_df['movie_id'] = [movie_ids_list[movie_akas_list.index( title )] if title in movie_akas_list \n",
    "                          else None for title in budgets_df['movie']]\n",
    "budgets_df"
   ]
  },
  {
   "attachments": {},
   "cell_type": "markdown",
   "id": "1e09d45e",
   "metadata": {},
   "source": [
    "### Clean budgets_df"
   ]
  },
  {
   "attachments": {},
   "cell_type": "markdown",
   "id": "d2b84484",
   "metadata": {},
   "source": [
    "Each movie requires a movie_id and each movie can only have one movie_id"
   ]
  },
  {
   "cell_type": "code",
   "execution_count": 17,
   "id": "0630488a",
   "metadata": {},
   "outputs": [],
   "source": [
    "budgets_df.dropna(subset=['movie_id'],inplace=True)"
   ]
  },
  {
   "cell_type": "code",
   "execution_count": 18,
   "id": "1ab4908b",
   "metadata": {},
   "outputs": [],
   "source": [
    "budgets_df.drop_duplicates(subset=['movie_id'],inplace=True)"
   ]
  },
  {
   "cell_type": "markdown",
   "id": "2ccab5de",
   "metadata": {},
   "source": [
    "Dollar amounts need to be treated as numbers, so we have to remove dollar sign and commas from our data."
   ]
  },
  {
   "cell_type": "code",
   "execution_count": 19,
   "id": "68e555bf",
   "metadata": {
    "scrolled": true
   },
   "outputs": [],
   "source": [
    "budgets_df['production_budget'] = (budgets_df['production_budget'].str.replace('$', '')\n",
    "                                   .str.replace(',', '').astype(int))\n",
    "budgets_df['domestic_gross'] = budgets_df['domestic_gross'].str.replace('$', '').str.replace(',', '').astype(int)\n",
    "budgets_df['worldwide_gross'] = budgets_df['worldwide_gross'].str.replace('$', '').str.replace(',', '').astype(int)"
   ]
  },
  {
   "cell_type": "markdown",
   "id": "cf4a3688",
   "metadata": {},
   "source": [
    "### Feature Engineering\n",
    "\n",
    "We created foreign market analysis and margins to determine budget range for future movies."
   ]
  },
  {
   "cell_type": "code",
   "execution_count": 20,
   "id": "1dd0b072",
   "metadata": {},
   "outputs": [
    {
     "data": {
      "text/html": [
       "<div>\n",
       "<style scoped>\n",
       "    .dataframe tbody tr th:only-of-type {\n",
       "        vertical-align: middle;\n",
       "    }\n",
       "\n",
       "    .dataframe tbody tr th {\n",
       "        vertical-align: top;\n",
       "    }\n",
       "\n",
       "    .dataframe thead th {\n",
       "        text-align: right;\n",
       "    }\n",
       "</style>\n",
       "<table border=\"1\" class=\"dataframe\">\n",
       "  <thead>\n",
       "    <tr style=\"text-align: right;\">\n",
       "      <th></th>\n",
       "      <th>id</th>\n",
       "      <th>release_date</th>\n",
       "      <th>movie</th>\n",
       "      <th>production_budget</th>\n",
       "      <th>domestic_gross</th>\n",
       "      <th>worldwide_gross</th>\n",
       "      <th>movie_id</th>\n",
       "      <th>foreign_gross</th>\n",
       "      <th>domestic_margin</th>\n",
       "      <th>worldwide_margin</th>\n",
       "      <th>foreign_margin</th>\n",
       "    </tr>\n",
       "  </thead>\n",
       "  <tbody>\n",
       "    <tr>\n",
       "      <th>0</th>\n",
       "      <td>1</td>\n",
       "      <td>Dec 18, 2009</td>\n",
       "      <td>Avatar</td>\n",
       "      <td>425000000</td>\n",
       "      <td>760507625</td>\n",
       "      <td>2776345279</td>\n",
       "      <td>tt1775309</td>\n",
       "      <td>2015837654</td>\n",
       "      <td>335507625</td>\n",
       "      <td>2351345279</td>\n",
       "      <td>1590837654</td>\n",
       "    </tr>\n",
       "    <tr>\n",
       "      <th>1</th>\n",
       "      <td>2</td>\n",
       "      <td>May 20, 2011</td>\n",
       "      <td>Pirates of the Caribbean: On Stranger Tides</td>\n",
       "      <td>410600000</td>\n",
       "      <td>241063875</td>\n",
       "      <td>1045663875</td>\n",
       "      <td>tt1298650</td>\n",
       "      <td>804600000</td>\n",
       "      <td>-169536125</td>\n",
       "      <td>635063875</td>\n",
       "      <td>394000000</td>\n",
       "    </tr>\n",
       "    <tr>\n",
       "      <th>2</th>\n",
       "      <td>3</td>\n",
       "      <td>Jun 7, 2019</td>\n",
       "      <td>Dark Phoenix</td>\n",
       "      <td>350000000</td>\n",
       "      <td>42762350</td>\n",
       "      <td>149762350</td>\n",
       "      <td>tt6565702</td>\n",
       "      <td>107000000</td>\n",
       "      <td>-307237650</td>\n",
       "      <td>-200237650</td>\n",
       "      <td>-243000000</td>\n",
       "    </tr>\n",
       "    <tr>\n",
       "      <th>3</th>\n",
       "      <td>4</td>\n",
       "      <td>May 1, 2015</td>\n",
       "      <td>Avengers: Age of Ultron</td>\n",
       "      <td>330600000</td>\n",
       "      <td>459005868</td>\n",
       "      <td>1403013963</td>\n",
       "      <td>tt2395427</td>\n",
       "      <td>944008095</td>\n",
       "      <td>128405868</td>\n",
       "      <td>1072413963</td>\n",
       "      <td>613408095</td>\n",
       "    </tr>\n",
       "    <tr>\n",
       "      <th>6</th>\n",
       "      <td>7</td>\n",
       "      <td>Apr 27, 2018</td>\n",
       "      <td>Avengers: Infinity War</td>\n",
       "      <td>300000000</td>\n",
       "      <td>678815482</td>\n",
       "      <td>2048134200</td>\n",
       "      <td>tt4154756</td>\n",
       "      <td>1369318718</td>\n",
       "      <td>378815482</td>\n",
       "      <td>1748134200</td>\n",
       "      <td>1069318718</td>\n",
       "    </tr>\n",
       "  </tbody>\n",
       "</table>\n",
       "</div>"
      ],
      "text/plain": [
       "   id  release_date                                        movie  \\\n",
       "0   1  Dec 18, 2009                                       Avatar   \n",
       "1   2  May 20, 2011  Pirates of the Caribbean: On Stranger Tides   \n",
       "2   3   Jun 7, 2019                                 Dark Phoenix   \n",
       "3   4   May 1, 2015                      Avengers: Age of Ultron   \n",
       "6   7  Apr 27, 2018                       Avengers: Infinity War   \n",
       "\n",
       "   production_budget  domestic_gross  worldwide_gross   movie_id  \\\n",
       "0          425000000       760507625       2776345279  tt1775309   \n",
       "1          410600000       241063875       1045663875  tt1298650   \n",
       "2          350000000        42762350        149762350  tt6565702   \n",
       "3          330600000       459005868       1403013963  tt2395427   \n",
       "6          300000000       678815482       2048134200  tt4154756   \n",
       "\n",
       "   foreign_gross  domestic_margin  worldwide_margin  foreign_margin  \n",
       "0     2015837654        335507625        2351345279      1590837654  \n",
       "1      804600000       -169536125         635063875       394000000  \n",
       "2      107000000       -307237650        -200237650      -243000000  \n",
       "3      944008095        128405868        1072413963       613408095  \n",
       "6     1369318718        378815482        1748134200      1069318718  "
      ]
     },
     "execution_count": 20,
     "metadata": {},
     "output_type": "execute_result"
    }
   ],
   "source": [
    "budgets_df['foreign_gross'] = budgets_df['worldwide_gross'] - budgets_df['domestic_gross']\n",
    "budgets_df['domestic_margin'] = budgets_df['domestic_gross'] - budgets_df['production_budget']\n",
    "budgets_df['worldwide_margin'] = budgets_df['worldwide_gross'] - budgets_df['production_budget']\n",
    "budgets_df['foreign_margin'] = budgets_df['foreign_gross'] - budgets_df['production_budget']\n",
    "budgets_df.head()"
   ]
  },
  {
   "attachments": {},
   "cell_type": "markdown",
   "id": "3e628f75",
   "metadata": {},
   "source": [
    "### Merge budgets with recent IMDB movies\n",
    "Bringing together more information from IMDB with budget data from TheNumbers"
   ]
  },
  {
   "cell_type": "code",
   "execution_count": 21,
   "id": "574f8997",
   "metadata": {},
   "outputs": [
    {
     "name": "stdout",
     "output_type": "stream",
     "text": [
      "<class 'pandas.core.frame.DataFrame'>\n",
      "Int64Index: 1465 entries, 0 to 1464\n",
      "Data columns (total 16 columns):\n",
      " #   Column             Non-Null Count  Dtype  \n",
      "---  ------             --------------  -----  \n",
      " 0   id                 1465 non-null   int64  \n",
      " 1   release_date       1465 non-null   object \n",
      " 2   movie              1465 non-null   object \n",
      " 3   production_budget  1465 non-null   int64  \n",
      " 4   domestic_gross     1465 non-null   int64  \n",
      " 5   worldwide_gross    1465 non-null   int64  \n",
      " 6   movie_id           1465 non-null   object \n",
      " 7   foreign_gross      1465 non-null   int64  \n",
      " 8   domestic_margin    1465 non-null   int64  \n",
      " 9   worldwide_margin   1465 non-null   int64  \n",
      " 10  foreign_margin     1465 non-null   int64  \n",
      " 11  primary_title      1465 non-null   object \n",
      " 12  original_title     1465 non-null   object \n",
      " 13  start_year         1465 non-null   int64  \n",
      " 14  runtime_minutes    1375 non-null   float64\n",
      " 15  genres             1460 non-null   object \n",
      "dtypes: float64(1), int64(9), object(6)\n",
      "memory usage: 194.6+ KB\n"
     ]
    }
   ],
   "source": [
    "recent_movies = budgets_df.merge(recent_imdb_movies, on=\"movie_id\", how='inner')\n",
    "recent_movies.info()"
   ]
  },
  {
   "cell_type": "markdown",
   "id": "b9e85fb6",
   "metadata": {},
   "source": [
    "### Merging together recent movies and directors\n",
    "Bringing together information from the merged recent movies table and directors for our final tabel for director analysis"
   ]
  },
  {
   "cell_type": "code",
   "execution_count": 22,
   "id": "30767f11",
   "metadata": {},
   "outputs": [
    {
     "data": {
      "text/html": [
       "<div>\n",
       "<style scoped>\n",
       "    .dataframe tbody tr th:only-of-type {\n",
       "        vertical-align: middle;\n",
       "    }\n",
       "\n",
       "    .dataframe tbody tr th {\n",
       "        vertical-align: top;\n",
       "    }\n",
       "\n",
       "    .dataframe thead th {\n",
       "        text-align: right;\n",
       "    }\n",
       "</style>\n",
       "<table border=\"1\" class=\"dataframe\">\n",
       "  <thead>\n",
       "    <tr style=\"text-align: right;\">\n",
       "      <th></th>\n",
       "      <th>id</th>\n",
       "      <th>release_date</th>\n",
       "      <th>movie</th>\n",
       "      <th>production_budget</th>\n",
       "      <th>domestic_gross</th>\n",
       "      <th>worldwide_gross</th>\n",
       "      <th>movie_id</th>\n",
       "      <th>foreign_gross</th>\n",
       "      <th>domestic_margin</th>\n",
       "      <th>worldwide_margin</th>\n",
       "      <th>foreign_margin</th>\n",
       "      <th>primary_title</th>\n",
       "      <th>original_title</th>\n",
       "      <th>start_year</th>\n",
       "      <th>runtime_minutes</th>\n",
       "      <th>genres</th>\n",
       "      <th>person_id</th>\n",
       "      <th>primary_name</th>\n",
       "    </tr>\n",
       "  </thead>\n",
       "  <tbody>\n",
       "    <tr>\n",
       "      <th>0</th>\n",
       "      <td>3</td>\n",
       "      <td>Jun 7, 2019</td>\n",
       "      <td>Dark Phoenix</td>\n",
       "      <td>350000000</td>\n",
       "      <td>42762350</td>\n",
       "      <td>149762350</td>\n",
       "      <td>tt6565702</td>\n",
       "      <td>107000000</td>\n",
       "      <td>-307237650</td>\n",
       "      <td>-200237650</td>\n",
       "      <td>-243000000</td>\n",
       "      <td>Dark Phoenix</td>\n",
       "      <td>Dark Phoenix</td>\n",
       "      <td>2019</td>\n",
       "      <td>113.00</td>\n",
       "      <td>Action,Adventure,Sci-Fi</td>\n",
       "      <td>nm1334526</td>\n",
       "      <td>Simon Kinberg</td>\n",
       "    </tr>\n",
       "    <tr>\n",
       "      <th>1</th>\n",
       "      <td>4</td>\n",
       "      <td>May 1, 2015</td>\n",
       "      <td>Avengers: Age of Ultron</td>\n",
       "      <td>330600000</td>\n",
       "      <td>459005868</td>\n",
       "      <td>1403013963</td>\n",
       "      <td>tt2395427</td>\n",
       "      <td>944008095</td>\n",
       "      <td>128405868</td>\n",
       "      <td>1072413963</td>\n",
       "      <td>613408095</td>\n",
       "      <td>Avengers: Age of Ultron</td>\n",
       "      <td>Avengers: Age of Ultron</td>\n",
       "      <td>2015</td>\n",
       "      <td>141.00</td>\n",
       "      <td>Action,Adventure,Sci-Fi</td>\n",
       "      <td>nm0923736</td>\n",
       "      <td>Joss Whedon</td>\n",
       "    </tr>\n",
       "    <tr>\n",
       "      <th>2</th>\n",
       "      <td>7</td>\n",
       "      <td>Apr 27, 2018</td>\n",
       "      <td>Avengers: Infinity War</td>\n",
       "      <td>300000000</td>\n",
       "      <td>678815482</td>\n",
       "      <td>2048134200</td>\n",
       "      <td>tt4154756</td>\n",
       "      <td>1369318718</td>\n",
       "      <td>378815482</td>\n",
       "      <td>1748134200</td>\n",
       "      <td>1069318718</td>\n",
       "      <td>Avengers: Infinity War</td>\n",
       "      <td>Avengers: Infinity War</td>\n",
       "      <td>2018</td>\n",
       "      <td>149.00</td>\n",
       "      <td>Action,Adventure,Sci-Fi</td>\n",
       "      <td>nm0751648</td>\n",
       "      <td>Joe Russo</td>\n",
       "    </tr>\n",
       "    <tr>\n",
       "      <th>3</th>\n",
       "      <td>7</td>\n",
       "      <td>Apr 27, 2018</td>\n",
       "      <td>Avengers: Infinity War</td>\n",
       "      <td>300000000</td>\n",
       "      <td>678815482</td>\n",
       "      <td>2048134200</td>\n",
       "      <td>tt4154756</td>\n",
       "      <td>1369318718</td>\n",
       "      <td>378815482</td>\n",
       "      <td>1748134200</td>\n",
       "      <td>1069318718</td>\n",
       "      <td>Avengers: Infinity War</td>\n",
       "      <td>Avengers: Infinity War</td>\n",
       "      <td>2018</td>\n",
       "      <td>149.00</td>\n",
       "      <td>Action,Adventure,Sci-Fi</td>\n",
       "      <td>nm0751577</td>\n",
       "      <td>Anthony Russo</td>\n",
       "    </tr>\n",
       "    <tr>\n",
       "      <th>4</th>\n",
       "      <td>9</td>\n",
       "      <td>Nov 17, 2017</td>\n",
       "      <td>Justice League</td>\n",
       "      <td>300000000</td>\n",
       "      <td>229024295</td>\n",
       "      <td>655945209</td>\n",
       "      <td>tt0974015</td>\n",
       "      <td>426920914</td>\n",
       "      <td>-70975705</td>\n",
       "      <td>355945209</td>\n",
       "      <td>126920914</td>\n",
       "      <td>Justice League</td>\n",
       "      <td>Justice League</td>\n",
       "      <td>2017</td>\n",
       "      <td>120.00</td>\n",
       "      <td>Action,Adventure,Fantasy</td>\n",
       "      <td>nm0811583</td>\n",
       "      <td>Zack Snyder</td>\n",
       "    </tr>\n",
       "  </tbody>\n",
       "</table>\n",
       "</div>"
      ],
      "text/plain": [
       "   id  release_date                    movie  production_budget  \\\n",
       "0   3   Jun 7, 2019             Dark Phoenix          350000000   \n",
       "1   4   May 1, 2015  Avengers: Age of Ultron          330600000   \n",
       "2   7  Apr 27, 2018   Avengers: Infinity War          300000000   \n",
       "3   7  Apr 27, 2018   Avengers: Infinity War          300000000   \n",
       "4   9  Nov 17, 2017           Justice League          300000000   \n",
       "\n",
       "   domestic_gross  worldwide_gross   movie_id  foreign_gross  domestic_margin  \\\n",
       "0        42762350        149762350  tt6565702      107000000       -307237650   \n",
       "1       459005868       1403013963  tt2395427      944008095        128405868   \n",
       "2       678815482       2048134200  tt4154756     1369318718        378815482   \n",
       "3       678815482       2048134200  tt4154756     1369318718        378815482   \n",
       "4       229024295        655945209  tt0974015      426920914        -70975705   \n",
       "\n",
       "   worldwide_margin  foreign_margin            primary_title  \\\n",
       "0        -200237650      -243000000             Dark Phoenix   \n",
       "1        1072413963       613408095  Avengers: Age of Ultron   \n",
       "2        1748134200      1069318718   Avengers: Infinity War   \n",
       "3        1748134200      1069318718   Avengers: Infinity War   \n",
       "4         355945209       126920914           Justice League   \n",
       "\n",
       "            original_title  start_year      runtime_minutes  \\\n",
       "0             Dark Phoenix        2019               113.00   \n",
       "1  Avengers: Age of Ultron        2015               141.00   \n",
       "2   Avengers: Infinity War        2018               149.00   \n",
       "3   Avengers: Infinity War        2018               149.00   \n",
       "4           Justice League        2017               120.00   \n",
       "\n",
       "                     genres  person_id   primary_name  \n",
       "0   Action,Adventure,Sci-Fi  nm1334526  Simon Kinberg  \n",
       "1   Action,Adventure,Sci-Fi  nm0923736    Joss Whedon  \n",
       "2   Action,Adventure,Sci-Fi  nm0751648      Joe Russo  \n",
       "3   Action,Adventure,Sci-Fi  nm0751577  Anthony Russo  \n",
       "4  Action,Adventure,Fantasy  nm0811583    Zack Snyder  "
      ]
     },
     "execution_count": 22,
     "metadata": {},
     "output_type": "execute_result"
    }
   ],
   "source": [
    "movies_directors = recent_movies.merge(imdb_directors, on=\"movie_id\", how='inner')\n",
    "movies_directors.head()"
   ]
  },
  {
   "cell_type": "markdown",
   "id": "4f518e80",
   "metadata": {},
   "source": [
    "# Data Analysis"
   ]
  },
  {
   "attachments": {},
   "cell_type": "markdown",
   "id": "b37fa978",
   "metadata": {},
   "source": [
    "## Get the the top 15 directors sorted by the median of their worldwide profit margin \n",
    "Here, we wanted to look at the median profits generated from directors' recent movies to reduce the influence of outliers.\n",
    "\n",
    "Some directors have experience in creating highly profitable films. In recent years, Colin Trevorrow (the director of 2 of the recent _Jurassic World_ films) has been able to generate a median of \\$1.4 billion in profit in his films. The next-highest slot in this list was nearly \\$350 million dollars behind him."
   ]
  },
  {
   "cell_type": "code",
   "execution_count": 23,
   "id": "8b2ba769",
   "metadata": {},
   "outputs": [
    {
     "data": {
      "text/html": [
       "<div>\n",
       "<style scoped>\n",
       "    .dataframe tbody tr th:only-of-type {\n",
       "        vertical-align: middle;\n",
       "    }\n",
       "\n",
       "    .dataframe tbody tr th {\n",
       "        vertical-align: top;\n",
       "    }\n",
       "\n",
       "    .dataframe thead th {\n",
       "        text-align: right;\n",
       "    }\n",
       "</style>\n",
       "<table border=\"1\" class=\"dataframe\">\n",
       "  <thead>\n",
       "    <tr style=\"text-align: right;\">\n",
       "      <th></th>\n",
       "      <th>primary_name</th>\n",
       "      <th>person_id</th>\n",
       "      <th>worldwide_margin</th>\n",
       "    </tr>\n",
       "  </thead>\n",
       "  <tbody>\n",
       "    <tr>\n",
       "      <th>254</th>\n",
       "      <td>Colin Trevorrow</td>\n",
       "      <td>nm1119880</td>\n",
       "      <td>1,433,854,864.00</td>\n",
       "    </tr>\n",
       "    <tr>\n",
       "      <th>235</th>\n",
       "      <td>Christophe Gans</td>\n",
       "      <td>nm0304521</td>\n",
       "      <td>1,099,199,706.00</td>\n",
       "    </tr>\n",
       "    <tr>\n",
       "      <th>668</th>\n",
       "      <td>Joss Whedon</td>\n",
       "      <td>nm0923736</td>\n",
       "      <td>1,072,413,963.00</td>\n",
       "    </tr>\n",
       "    <tr>\n",
       "      <th>737</th>\n",
       "      <td>Kyle Balda</td>\n",
       "      <td>nm0049633</td>\n",
       "      <td>1,023,031,961.50</td>\n",
       "    </tr>\n",
       "    <tr>\n",
       "      <th>999</th>\n",
       "      <td>Pierre Coffin</td>\n",
       "      <td>nm1853544</td>\n",
       "      <td>959,727,750.00</td>\n",
       "    </tr>\n",
       "  </tbody>\n",
       "</table>\n",
       "</div>"
      ],
      "text/plain": [
       "        primary_name  person_id     worldwide_margin\n",
       "254  Colin Trevorrow  nm1119880     1,433,854,864.00\n",
       "235  Christophe Gans  nm0304521     1,099,199,706.00\n",
       "668      Joss Whedon  nm0923736     1,072,413,963.00\n",
       "737       Kyle Balda  nm0049633     1,023,031,961.50\n",
       "999    Pierre Coffin  nm1853544       959,727,750.00"
      ]
     },
     "execution_count": 23,
     "metadata": {},
     "output_type": "execute_result"
    }
   ],
   "source": [
    "director_wwmargin_median = movies_directors.groupby(\n",
    "    ['primary_name', 'person_id'], as_index=False\n",
    ")['worldwide_margin'].median().sort_values(by='worldwide_margin', ascending=False)[:15]\n",
    "director_wwmargin_median.head()"
   ]
  },
  {
   "cell_type": "code",
   "execution_count": 24,
   "id": "74adc56a",
   "metadata": {},
   "outputs": [
    {
     "data": {
      "image/png": "[encoded data removed]",
      "text/plain": [
       "<Figure size 1080x432 with 1 Axes>"
      ]
     },
     "metadata": {},
     "output_type": "display_data"
    }
   ],
   "source": [
    "fig, ax = plt.subplots(figsize=(15, 6))\n",
    "\n",
    "x = director_wwmargin_median['primary_name']\n",
    "x = [f'{director[0]}. {director.split(\" \")[-1]}' for director in x.tolist()]\n",
    "y = director_wwmargin_median['worldwide_margin']\n",
    "\n",
    "_y_ticks = [(value * 10**8) for value in range(2,14+1,2)]\n",
    "ax.set(\n",
    "    title = \"Top 15 Worldwide Margin Directors\", \n",
    "    xlabel = \"Director Names\",\n",
    "    ylabel = \"Median Worldwide Margin\",\n",
    "    yticks=_y_ticks,\n",
    "    yticklabels = [f'${int(x/1000000):,}M' for x in _y_ticks]\n",
    ")\n",
    "\n",
    "ax.bar(x, y, align='edge')\n",
    "ax.bar(x[0], y[:1], width=0.85, align='edge', linewidth=5, edgecolor='#e0c122')\n",
    "\n",
    "plt.xticks(rotation=50)\n",
    "\n",
    "'';"
   ]
  },
  {
   "cell_type": "markdown",
   "id": "2897425c",
   "metadata": {},
   "source": [
    "## Market Discovery:\n",
    "Here, we sought to discover if a foreign market or a domestic market would be a better area to focus. We did this by gathering the median gross sales of all regions and compared them to one another, with an additional focus on the top 50 highest grossing movies worldwide."
   ]
  },
  {
   "cell_type": "code",
   "execution_count": 25,
   "id": "434841c0",
   "metadata": {},
   "outputs": [],
   "source": [
    "market_focus_df = budgets_df.loc[\n",
    "    (budgets_df['foreign_gross'] > 0) & (budgets_df['domestic_gross'] > 0),\n",
    "    ['worldwide_gross','domestic_gross','foreign_gross']\n",
    "]\n",
    "market_focus = {\n",
    "    'worldwide': {\n",
    "        'median': market_focus_df['worldwide_gross'].median(),\n",
    "        'top_median': market_focus_df['worldwide_gross'][:50].median()\n",
    "    },\n",
    "    'domestic': {\n",
    "        'median': market_focus_df['domestic_gross'].median(),\n",
    "        'top_median': market_focus_df['domestic_gross'][:50].median()\n",
    "    },\n",
    "    'foreign': {\n",
    "        'median': market_focus_df['foreign_gross'].median(),\n",
    "        'top_median': market_focus_df['foreign_gross'][:50].median()\n",
    "    }\n",
    "}"
   ]
  },
  {
   "cell_type": "code",
   "execution_count": 26,
   "id": "d066eaaf",
   "metadata": {},
   "outputs": [
    {
     "data": {
      "image/png": "[encoded data removed]",
      "text/plain": [
       "<Figure size 720x864 with 1 Axes>"
      ]
     },
     "metadata": {},
     "output_type": "display_data"
    }
   ],
   "source": [
    "fig, ax = plt.subplots(figsize = (10,12))\n",
    "sns.set_palette('colorblind')\n",
    "\n",
    "x = ['All Films','Top 50\\nGrossing Films']\n",
    "_y_ticks = [(value * 10**8) for value in range(0,10+1,2)]\n",
    "\n",
    "ax.bar(\n",
    "    x=x,\n",
    "    height=list(market_focus['worldwide'].values()),\n",
    "    width=-0.9,\n",
    "    align='center'\n",
    ")\n",
    "ax.bar(\n",
    "    x=x,\n",
    "    height=list(market_focus['domestic'].values()),\n",
    "    width=-0.38,\n",
    "    align='edge'\n",
    ")\n",
    "ax.bar(\n",
    "    x=x,\n",
    "    height=list(market_focus['foreign'].values()),\n",
    "    width=0.38,\n",
    "    align='edge'\n",
    ")\n",
    "\n",
    "ax.set(\n",
    "    yticks=_y_ticks,\n",
    "    yticklabels = [f'${int(x/1000000):,}M' for x in _y_ticks]\n",
    ")\n",
    "\n",
    "plt.xticks(fontsize=25)\n",
    "plt.yticks(fontsize=18)\n",
    "plt.title(\"Gross Sales Compared across Domestic,\\nForeign, and Global Markets\\n(in Millions USD)\",\n",
    "fontsize=30)\n",
    "plt.xlabel(\"Market Measured\",fontsize=25)\n",
    "plt.ylabel(\"Gross Sales (Millions, USD)\",fontsize=25)\n",
    "\n",
    "ax.legend(['Global','Domestic','Foreign'], loc=\"upper left\", fontsize=25)\n",
    "'';"
   ]
  },
  {
   "cell_type": "markdown",
   "id": "ed51310e",
   "metadata": {},
   "source": [
    "We can see here that the domestic market seem to be slightly better than the foreign market across the entire dataset, but for the movies in the highest-grossing subset, the foreign market seems to bring in almost double the value."
   ]
  },
  {
   "cell_type": "markdown",
   "id": "ceaef0c7",
   "metadata": {},
   "source": [
    "## Budget vs Worldwide Profit Margin per Movie"
   ]
  },
  {
   "cell_type": "code",
   "execution_count": 27,
   "id": "07abc386",
   "metadata": {},
   "outputs": [
    {
     "data": {
      "image/png": "[encoded data removed]",
      "text/plain": [
       "<Figure size 1008x648 with 1 Axes>"
      ]
     },
     "metadata": {},
     "output_type": "display_data"
    }
   ],
   "source": [
    "fig, ax = plt.subplots(figsize=(14, 9))\n",
    "\n",
    "x = movies_directors['production_budget']\n",
    "y = movies_directors['worldwide_margin']\n",
    "ax.scatter(\n",
    "    x=x,\n",
    "    y=y,\n",
    "    c=np.sign(y),\n",
    "    cmap=plt.cm.coolwarm.reversed()\n",
    ")\n",
    "\n",
    "_x_ticks = [value * 10**6 for value in range(50,350+1,50)]\n",
    "_y_ticks = [value * 10**6 for value in range(-250,1750+1,250)]\n",
    "ax.set(\n",
    "    title=\"Return on Investment Based on Production Budgets\\n(in Millions USD)\",\n",
    "    xlabel=\"Budget\",\n",
    "    ylabel=\"Worldwide Profit Margin\",\n",
    "    xticks=_x_ticks,\n",
    "    xticklabels = [f'${int(value/1000000):,}M' for value in _x_ticks],\n",
    "    yticks=_y_ticks,\n",
    "    yticklabels = [f'${int(value/1000000):,}M' for value in _y_ticks],\n",
    ")\n",
    "\n",
    "z = np.polyfit(x, y, 2)\n",
    "p = np.poly1d(z)\n",
    "\n",
    "ax.plot(x,p(x),\"r--\")\n",
    "plt.xticks(fontsize=14, rotation=0)\n",
    "plt.yticks(fontsize=14, rotation=0)\n",
    "plt.rc('font', size = 25)\n",
    "'';"
   ]
  },
  {
   "cell_type": "markdown",
   "id": "64e5bfe0",
   "metadata": {},
   "source": [
    "The scatter plot shows a slight positive correlation for production budget and worldwide profit margin (return on investment) which supports that the more investment made the more return received. In this range, there doesn't seem to be a point of diminishing returns."
   ]
  },
  {
   "cell_type": "markdown",
   "id": "1945ccaa",
   "metadata": {},
   "source": [
    "## Conclusions"
   ]
  },
  {
   "attachments": {},
   "cell_type": "markdown",
   "id": "4dcfc250",
   "metadata": {},
   "source": [
    "Moving forward, Microsoft should reach out to Colin Trevorrow (_Jurassic World_) to collaborate on the production of a mid-to-high-budget film. Accessibility of this film should be a major goal as part of this project, to allow it to be introduced to a wide, global audience.\n",
    "\n",
    "- Based on our investigation, mister Trevorrow has a solid chance at producing a highly-profitable movie as evidenced by the most recent decade of releases.\n",
    "- Among the highest-grossing films, the foreign market hold a very strong presence in terms of the profit that is generated.\n",
    "- Higher budgets appear to lead to higher margins, though data for extremely high-budget films is somewhat lacking, so it's important to keep this is mind when managing risk."
   ]
  },
  {
   "attachments": {},
   "cell_type": "markdown",
   "id": "73f29b3f",
   "metadata": {},
   "source": [
    "## Next Steps"
   ]
  },
  {
   "attachments": {},
   "cell_type": "markdown",
   "id": "ae1d2d11",
   "metadata": {},
   "source": [
    "Though we believe heavily in the results of our investigation, there were some shortcomings in the data we were able to use. Provided we have more time and additional resources, there are a few steps we would be able to take to improve on the information provided in this report.\n",
    "\n",
    "1. **A more closely related, cleaner dataset.** The datasets we used were from two different sources. In order to get the names, numbers, and all other data to tie together, we had to base some data combination on movie titles. These can be input differently from different sources and it makes it difficult to automatically bring the two sources together. It may be possible to generate a budgets list with IMDB movie IDs, for instance. This will have to be investigated.\n",
    "2. **The addition of recent major releases.** There were a few key releases that came out after our datasets were published. _Avatar: Way of Water_, for instance may have strongly effected both the directors category and the budget and profit analysis. Without research into this, it's difficult to tell.\n",
    "3. **Gathering additional useful information.** There are many key factors in a successful movie release. Here, we were able to investigate three major ones. Given more time and perhaps more insight, additional indicators such as popular IPs, genre, and seasonality could be researched to maximize various success factors."
   ]
  }
 ],
 "metadata": {
  "kernelspec": {
   "display_name": "Python (learn-env)",
   "language": "python",
   "name": "learn-env"
  },
  "language_info": {
   "codemirror_mode": {
    "name": "ipython",
    "version": 3
   },
   "file_extension": ".py",
   "mimetype": "text/x-python",
   "name": "python",
   "nbconvert_exporter": "python",
   "pygments_lexer": "ipython3",
   "version": "3.8.5"
  }
 },
 "nbformat": 4,
 "nbformat_minor": 5
}
