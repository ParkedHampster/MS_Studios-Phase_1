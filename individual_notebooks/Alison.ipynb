{
 "cells": [
  {
   "cell_type": "markdown",
   "metadata": {},
   "source": [
    "Overview\n",
    "\n",
    "Business Understanding\n",
    "    Include stakeholder and key business questions\n",
    "\n",
    "Data Understanding and Analysis\n",
    "    Source of data\n",
    "\n",
    "Description of data\n",
    "    Three visualizations (the same visualizations presented in the slides and notebook)\n",
    "\n",
    "Conclusion\n",
    "    Summary of conclusions including three relevant findings"
   ]
  },
  {
   "cell_type": "markdown",
   "metadata": {},
   "source": [
    "Outline From https://github.com/learn-co-curriculum/dsc-project-template/tree/example-aab\n",
    "\n",
    "### Overview\n",
    "For this project, you will use exploratory data analysis to generate insights for a business stakeholder.\n",
    "\n",
    "\n",
    "\n",
    "### Business Problem\n",
    "Microsoft sees all the big companies creating original video content and they want to get in on the fun. \n",
    "They have decided to create a new movie studio, but they don’t know anything about creating movies. \n",
    "You are charged with exploring what types of films are currently doing the best at the box office. \n",
    "You must then translate those findings into actionable insights that the head of Microsoft's new movie studio \n",
    "can use to help decide what type of films to create.\n",
    "\n",
    "### Data\n",
    "1. directors influence the performance of the movie\n",
    "    profit of each directors\n",
    "    not median bc of how long they have been directing\n",
    "    mean can be \n",
    "2. genres to go into\n",
    "    look at directors that do well in these genres\n",
    "3. \n",
    "\n",
    "### Methods\n",
    "- standard for performance = high imdb score and ticket sales\n",
    "- directros \n",
    "\n",
    "\n",
    "### Results\n",
    "\n",
    "### Conclusions\n",
    "\n",
    "#maybe\n",
    "### Next Step\n",
    "\n",
    "### Repository structure\n",
    "\n",
    "### Thank you"
   ]
  },
  {
   "cell_type": "code",
   "execution_count": 5,
   "metadata": {},
   "outputs": [],
   "source": [
    "### IMPORTS\n",
    "import pandas as pd\n",
    "import matplotlib.pyplot as plt\n",
    "import sqlite3\n",
    "%matplotlib inline\n",
    "\n",
    "### DATAFRAME DEFINITIONS\n",
    "# define all dataframes for later\n",
    "gross_df = pd.read_csv('data/bom.movie_gross.csv.gz')\n",
    "movies_df = pd.read_csv('data/tmdb.movies.csv.gz')\n",
    "budgets_df = pd.read_csv('data/tn.movie_budgets.csv.gz')\n",
    "# tsv files have to be read with \\t (tab spcaes) as their delimiter\n",
    "info_df = pd.read_csv('data/rt.movie_info.tsv.gz',delimiter='\\t')\n",
    "# file has an issue with encoding, read as cp850 or it throws an error\n",
    "reviews_df = pd.read_csv('data/rt.reviews.tsv.gz', delimiter='\\t', encoding='cp850')"
   ]
  },
  {
   "cell_type": "code",
   "execution_count": 6,
   "metadata": {},
   "outputs": [],
   "source": [
    "pd.set_option('display.max_rows', 1000)\n",
    "pd.set_option('display.max_columns', 1000)"
   ]
  },
  {
   "cell_type": "code",
   "execution_count": null,
   "metadata": {},
   "outputs": [],
   "source": [
    "!ls data"
   ]
  },
  {
   "cell_type": "code",
   "execution_count": 7,
   "metadata": {},
   "outputs": [],
   "source": [
    "#################################\n",
    "# REQUIRES UNZIPPING data/zipped_files/im.db.zip\n",
    "# INTO DIRECOTRY data/unzipped AS im.db\n",
    "#################################\n",
    "conn = sqlite3.connect('data/im.db')\n",
    "# call this later => imdb_df = pd.read_sql('''<QUERY>''',conn)"
   ]
  },
  {
   "cell_type": "code",
   "execution_count": null,
   "metadata": {},
   "outputs": [],
   "source": [
    "#don't need bc we us pd to read dataframe\n",
    "cursor = conn.cursor()"
   ]
  },
  {
   "cell_type": "code",
   "execution_count": null,
   "metadata": {
    "scrolled": true
   },
   "outputs": [],
   "source": [
    "###will return empty list bc nothing is executed as a query\n",
    "\n",
    "#cursor.fetchall()"
   ]
  },
  {
   "cell_type": "code",
   "execution_count": 8,
   "metadata": {
    "scrolled": true
   },
   "outputs": [
    {
     "data": {
      "text/html": [
       "<div>\n",
       "<style scoped>\n",
       "    .dataframe tbody tr th:only-of-type {\n",
       "        vertical-align: middle;\n",
       "    }\n",
       "\n",
       "    .dataframe tbody tr th {\n",
       "        vertical-align: top;\n",
       "    }\n",
       "\n",
       "    .dataframe thead th {\n",
       "        text-align: right;\n",
       "    }\n",
       "</style>\n",
       "<table border=\"1\" class=\"dataframe\">\n",
       "  <thead>\n",
       "    <tr style=\"text-align: right;\">\n",
       "      <th></th>\n",
       "      <th>type</th>\n",
       "      <th>name</th>\n",
       "      <th>tbl_name</th>\n",
       "      <th>rootpage</th>\n",
       "      <th>sql</th>\n",
       "    </tr>\n",
       "  </thead>\n",
       "  <tbody>\n",
       "    <tr>\n",
       "      <th>0</th>\n",
       "      <td>table</td>\n",
       "      <td>movie_basics</td>\n",
       "      <td>movie_basics</td>\n",
       "      <td>2</td>\n",
       "      <td>CREATE TABLE \"movie_basics\" (\\n\"movie_id\" TEXT...</td>\n",
       "    </tr>\n",
       "    <tr>\n",
       "      <th>1</th>\n",
       "      <td>table</td>\n",
       "      <td>directors</td>\n",
       "      <td>directors</td>\n",
       "      <td>3</td>\n",
       "      <td>CREATE TABLE \"directors\" (\\n\"movie_id\" TEXT,\\n...</td>\n",
       "    </tr>\n",
       "    <tr>\n",
       "      <th>2</th>\n",
       "      <td>table</td>\n",
       "      <td>known_for</td>\n",
       "      <td>known_for</td>\n",
       "      <td>4</td>\n",
       "      <td>CREATE TABLE \"known_for\" (\\n\"person_id\" TEXT,\\...</td>\n",
       "    </tr>\n",
       "    <tr>\n",
       "      <th>3</th>\n",
       "      <td>table</td>\n",
       "      <td>movie_akas</td>\n",
       "      <td>movie_akas</td>\n",
       "      <td>5</td>\n",
       "      <td>CREATE TABLE \"movie_akas\" (\\n\"movie_id\" TEXT,\\...</td>\n",
       "    </tr>\n",
       "    <tr>\n",
       "      <th>4</th>\n",
       "      <td>table</td>\n",
       "      <td>movie_ratings</td>\n",
       "      <td>movie_ratings</td>\n",
       "      <td>6</td>\n",
       "      <td>CREATE TABLE \"movie_ratings\" (\\n\"movie_id\" TEX...</td>\n",
       "    </tr>\n",
       "    <tr>\n",
       "      <th>5</th>\n",
       "      <td>table</td>\n",
       "      <td>persons</td>\n",
       "      <td>persons</td>\n",
       "      <td>7</td>\n",
       "      <td>CREATE TABLE \"persons\" (\\n\"person_id\" TEXT,\\n ...</td>\n",
       "    </tr>\n",
       "    <tr>\n",
       "      <th>6</th>\n",
       "      <td>table</td>\n",
       "      <td>principals</td>\n",
       "      <td>principals</td>\n",
       "      <td>8</td>\n",
       "      <td>CREATE TABLE \"principals\" (\\n\"movie_id\" TEXT,\\...</td>\n",
       "    </tr>\n",
       "    <tr>\n",
       "      <th>7</th>\n",
       "      <td>table</td>\n",
       "      <td>writers</td>\n",
       "      <td>writers</td>\n",
       "      <td>9</td>\n",
       "      <td>CREATE TABLE \"writers\" (\\n\"movie_id\" TEXT,\\n  ...</td>\n",
       "    </tr>\n",
       "  </tbody>\n",
       "</table>\n",
       "</div>"
      ],
      "text/plain": [
       "    type           name       tbl_name  rootpage  \\\n",
       "0  table   movie_basics   movie_basics         2   \n",
       "1  table      directors      directors         3   \n",
       "2  table      known_for      known_for         4   \n",
       "3  table     movie_akas     movie_akas         5   \n",
       "4  table  movie_ratings  movie_ratings         6   \n",
       "5  table        persons        persons         7   \n",
       "6  table     principals     principals         8   \n",
       "7  table        writers        writers         9   \n",
       "\n",
       "                                                 sql  \n",
       "0  CREATE TABLE \"movie_basics\" (\\n\"movie_id\" TEXT...  \n",
       "1  CREATE TABLE \"directors\" (\\n\"movie_id\" TEXT,\\n...  \n",
       "2  CREATE TABLE \"known_for\" (\\n\"person_id\" TEXT,\\...  \n",
       "3  CREATE TABLE \"movie_akas\" (\\n\"movie_id\" TEXT,\\...  \n",
       "4  CREATE TABLE \"movie_ratings\" (\\n\"movie_id\" TEX...  \n",
       "5  CREATE TABLE \"persons\" (\\n\"person_id\" TEXT,\\n ...  \n",
       "6  CREATE TABLE \"principals\" (\\n\"movie_id\" TEXT,\\...  \n",
       "7  CREATE TABLE \"writers\" (\\n\"movie_id\" TEXT,\\n  ...  "
      ]
     },
     "execution_count": 8,
     "metadata": {},
     "output_type": "execute_result"
    }
   ],
   "source": [
    "#to see all of the tables in the sql schema\n",
    "\n",
    "schema_df = pd.read_sql(\"\"\"\n",
    "\n",
    "SELECT *\n",
    "FROM sqlite_master\n",
    "\n",
    "\"\"\", conn)\n",
    "\n",
    "schema_df"
   ]
  },
  {
   "cell_type": "markdown",
   "metadata": {},
   "source": [
    "![database schema flow chart](./images/db_schema.jpeg \"Flowchart for data from IMDB is located in a SQLite database\")"
   ]
  },
  {
   "cell_type": "code",
   "execution_count": null,
   "metadata": {},
   "outputs": [],
   "source": [
    "print(schema_df['sql'].iloc[0])"
   ]
  },
  {
   "cell_type": "code",
   "execution_count": 9,
   "metadata": {},
   "outputs": [
    {
     "data": {
      "text/html": [
       "<div>\n",
       "<style scoped>\n",
       "    .dataframe tbody tr th:only-of-type {\n",
       "        vertical-align: middle;\n",
       "    }\n",
       "\n",
       "    .dataframe tbody tr th {\n",
       "        vertical-align: top;\n",
       "    }\n",
       "\n",
       "    .dataframe thead th {\n",
       "        text-align: right;\n",
       "    }\n",
       "</style>\n",
       "<table border=\"1\" class=\"dataframe\">\n",
       "  <thead>\n",
       "    <tr style=\"text-align: right;\">\n",
       "      <th></th>\n",
       "      <th>movie_id</th>\n",
       "      <th>person_id</th>\n",
       "    </tr>\n",
       "  </thead>\n",
       "  <tbody>\n",
       "    <tr>\n",
       "      <th>0</th>\n",
       "      <td>tt0285252</td>\n",
       "      <td>nm0899854</td>\n",
       "    </tr>\n",
       "    <tr>\n",
       "      <th>1</th>\n",
       "      <td>tt0462036</td>\n",
       "      <td>nm1940585</td>\n",
       "    </tr>\n",
       "    <tr>\n",
       "      <th>2</th>\n",
       "      <td>tt0835418</td>\n",
       "      <td>nm0151540</td>\n",
       "    </tr>\n",
       "    <tr>\n",
       "      <th>3</th>\n",
       "      <td>tt0835418</td>\n",
       "      <td>nm0151540</td>\n",
       "    </tr>\n",
       "    <tr>\n",
       "      <th>4</th>\n",
       "      <td>tt0878654</td>\n",
       "      <td>nm0089502</td>\n",
       "    </tr>\n",
       "  </tbody>\n",
       "</table>\n",
       "</div>"
      ],
      "text/plain": [
       "    movie_id  person_id\n",
       "0  tt0285252  nm0899854\n",
       "1  tt0462036  nm1940585\n",
       "2  tt0835418  nm0151540\n",
       "3  tt0835418  nm0151540\n",
       "4  tt0878654  nm0089502"
      ]
     },
     "metadata": {},
     "output_type": "display_data"
    },
    {
     "name": "stdout",
     "output_type": "stream",
     "text": [
      "<class 'pandas.core.frame.DataFrame'>\n",
      "RangeIndex: 291174 entries, 0 to 291173\n",
      "Data columns (total 2 columns):\n",
      " #   Column     Non-Null Count   Dtype \n",
      "---  ------     --------------   ----- \n",
      " 0   movie_id   291174 non-null  object\n",
      " 1   person_id  291174 non-null  object\n",
      "dtypes: object(2)\n",
      "memory usage: 4.4+ MB\n"
     ]
    },
    {
     "data": {
      "text/plain": [
       "None"
      ]
     },
     "metadata": {},
     "output_type": "display_data"
    }
   ],
   "source": [
    "directors = pd.read_sql(\"\"\"\n",
    "SELECT * \n",
    "FROM directors\n",
    "\"\"\", conn)\n",
    "\n",
    "display(directors.head())\n",
    "display(directors.info())"
   ]
  },
  {
   "cell_type": "code",
   "execution_count": null,
   "metadata": {},
   "outputs": [],
   "source": [
    "gross_df"
   ]
  },
  {
   "cell_type": "code",
   "execution_count": null,
   "metadata": {
    "scrolled": true
   },
   "outputs": [],
   "source": [
    "list(gross_df['title'])"
   ]
  },
  {
   "cell_type": "code",
   "execution_count": null,
   "metadata": {
    "scrolled": true
   },
   "outputs": [],
   "source": [
    "recent_gross_df = gross_df[gross_df['year'] >= 2013]\n",
    "display(recent_gross_df.head())"
   ]
  },
  {
   "cell_type": "code",
   "execution_count": null,
   "metadata": {},
   "outputs": [],
   "source": []
  },
  {
   "cell_type": "code",
   "execution_count": null,
   "metadata": {},
   "outputs": [],
   "source": [
    "len(movie_basics['primary_title'].unique())"
   ]
  },
  {
   "cell_type": "code",
   "execution_count": null,
   "metadata": {},
   "outputs": [],
   "source": [
    "movie_basics['primary_title'].value_counts()"
   ]
  },
  {
   "cell_type": "code",
   "execution_count": null,
   "metadata": {},
   "outputs": [],
   "source": [
    "recent_gross_df.head()"
   ]
  },
  {
   "cell_type": "code",
   "execution_count": null,
   "metadata": {},
   "outputs": [],
   "source": [
    "recent_gross_df.sort_values(by='year',ascending=False)"
   ]
  },
  {
   "cell_type": "code",
   "execution_count": null,
   "metadata": {
    "scrolled": true
   },
   "outputs": [],
   "source": [
    "movie_basics.sort_values(by='start_year', ascending=False).head(20)"
   ]
  },
  {
   "cell_type": "code",
   "execution_count": null,
   "metadata": {},
   "outputs": [],
   "source": [
    "recent_imdb_movies = "
   ]
  },
  {
   "cell_type": "markdown",
   "metadata": {},
   "source": [
    "# Organized data wrangling\n",
    "what dataframes are used and how we cleaned data"
   ]
  },
  {
   "cell_type": "markdown",
   "metadata": {},
   "source": [
    "## SUMMARY\n",
    "Our project will consider these datasets: 'tn.movie_budgets.csv.gz' and 'im.db'\n",
    "\n",
    "\n",
    "Our standard for \"success\" of a film is the money it makes (Revenue).\n",
    "Variables that may influence the \"success\" of a film:\n",
    "\n",
    "- Director\n",
    "- Domestic Gross Revenue\n",
    "- Worldwide Gross Revenue\n",
    "- Foreign Gross Revenue\n",
    "- Release Date\n",
    "\n",
    "\n",
    "- Average Vote Rating\n",
    "- Vote Count\n",
    "- Popularity\n",
    "- Genre\n",
    "\n",
    "\n",
    "Project will:"
   ]
  },
  {
   "cell_type": "markdown",
   "metadata": {},
   "source": [
    "# Method for cleaning dataframes and making new ones"
   ]
  },
  {
   "cell_type": "markdown",
   "metadata": {},
   "source": [
    "## Cleaning budgets_df"
   ]
  },
  {
   "cell_type": "code",
   "execution_count": null,
   "metadata": {},
   "outputs": [],
   "source": [
    "budgets_df = pd.read_csv('data/zipped_files/tn.movie_budgets.csv.gz')\n",
    "display(budgets_df.head())\n",
    "display(budgets_df.info())"
   ]
  },
  {
   "cell_type": "code",
   "execution_count": null,
   "metadata": {},
   "outputs": [],
   "source": [
    "#getting rid of dollar signs and commas in budgets_df and convertting budget_df['domestic_gross'] from str to int\n",
    "budgets_df['production_budget'] = (budgets_df['production_budget'].str.replace('$', '')\n",
    "                                   .str.replace(',', '').astype(int))\n",
    "budgets_df['production_budget']"
   ]
  },
  {
   "cell_type": "code",
   "execution_count": null,
   "metadata": {},
   "outputs": [],
   "source": [
    "#getting rid of dollar signs and commas in budgets_df and convertting budget_df['domestic_gross'] from str to int\n",
    "budgets_df['domestic_gross'] = budgets_df['domestic_gross'].str.replace('$', '').str.replace(',', '').astype(int)\n",
    "budgets_df['domestic_gross']"
   ]
  },
  {
   "cell_type": "code",
   "execution_count": null,
   "metadata": {},
   "outputs": [],
   "source": [
    "#getting rid of dollar signs and commas in budgets_df and convertting budget_df['domestic_gross'] from str to int\n",
    "budgets_df['worldwide_gross'] = budgets_df['worldwide_gross'].str.replace('$', '').str.replace(',', '').astype(int)\n",
    "budgets_df['worldwide_gross']"
   ]
  },
  {
   "cell_type": "code",
   "execution_count": null,
   "metadata": {},
   "outputs": [],
   "source": [
    "#making a foreign_gross column\n",
    "budgets_df['foreign_gross'] = budgets_df['worldwide_gross'] - budgets_df['domestic_gross']\n",
    "budgets_df.head()"
   ]
  },
  {
   "cell_type": "code",
   "execution_count": null,
   "metadata": {},
   "outputs": [],
   "source": [
    "#import datetime\n",
    "from datetime import datetime"
   ]
  },
  {
   "cell_type": "code",
   "execution_count": null,
   "metadata": {},
   "outputs": [],
   "source": [
    "# convert budgets_df['release_date'] to date time object \n",
    "budgets_df['clean_release_date'] =  pd.to_datetime(budgets_df['release_date'], infer_datetime_format=True)\n",
    "budgets_df.head()"
   ]
  },
  {
   "cell_type": "code",
   "execution_count": null,
   "metadata": {},
   "outputs": [],
   "source": [
    "# convert budgets_df['release_date'] to date time object \n",
    "budgets_df['release_year'] =  pd.to_datetime(budgets_df['release_date'], infer_datetime_format=True).dt.year\n",
    "budgets_df.head()"
   ]
  },
  {
   "cell_type": "code",
   "execution_count": null,
   "metadata": {},
   "outputs": [],
   "source": []
  },
  {
   "cell_type": "markdown",
   "metadata": {},
   "source": [
    "## Cleaning movie_aka"
   ]
  },
  {
   "cell_type": "code",
   "execution_count": null,
   "metadata": {},
   "outputs": [],
   "source": [
    "movie_akas = pd.read_sql(\"\"\"\n",
    "\n",
    "SELECT *\n",
    "FROM movie_akas\n",
    "\n",
    "\"\"\", conn)\n",
    "\n",
    "display(movie_akas.head())\n",
    "display(movie_akas.info())"
   ]
  },
  {
   "cell_type": "code",
   "execution_count": null,
   "metadata": {
    "scrolled": true
   },
   "outputs": [],
   "source": [
    "imdb_all_movie_names = pd.read_sql(\"\"\"\n",
    "\n",
    "SELECT DISTINCT l.movie_id, l.title, r.primary_title, r.original_title\n",
    "FROM movie_akas AS l\n",
    "INNER JOIN movie_basics AS r\n",
    "    ON l.movie_id = r.movie_id\n",
    "\n",
    "\"\"\",conn)\n",
    "\n",
    "imdb_all_movie_names"
   ]
  },
  {
   "cell_type": "code",
   "execution_count": null,
   "metadata": {
    "scrolled": true
   },
   "outputs": [],
   "source": [
    "#taking out only movie_id and title columns from movie_akas\n",
    "\n",
    "\n",
    "movie_akas = pd.read_sql(\"\"\"\n",
    "\n",
    "SELECT movie_id, title\n",
    "FROM movie_akas\n",
    "\n",
    "\"\"\", conn)\n",
    "\n",
    "movie_akas"
   ]
  },
  {
   "cell_type": "code",
   "execution_count": null,
   "metadata": {},
   "outputs": [],
   "source": [
    "# attach each possible movie title with their respective movie id,\n",
    "# lets us look up the potentially mismatched titles from budgets_df\n",
    "# doesn't need to be distinguished into original_ or primary_title\n",
    "# beyond this\n",
    "\n",
    "movie_akas = pd.read_sql(\"\"\"\n",
    "\n",
    "SELECT DISTINCT movie_id, title \n",
    "FROM movie_akas\n",
    "\n",
    "\"\"\",conn)\n",
    "\n",
    "movie_akas"
   ]
  },
  {
   "cell_type": "code",
   "execution_count": null,
   "metadata": {
    "scrolled": true
   },
   "outputs": [],
   "source": [
    "# Grouping all movie_akas using the movie_id\n",
    "movie_akas.groupby(by='movie_id').agg(lambda x: list(x))"
   ]
  },
  {
   "cell_type": "code",
   "execution_count": null,
   "metadata": {},
   "outputs": [],
   "source": [
    "# list-ifys the movie titles and movie IDs \n",
    "movie_akas_list = list(movie_akas['title'])\n",
    "movie_ids_list = list(movie_akas['movie_id'])\n",
    "display(movie_akas_list[:5])\n",
    "display(movie_ids_list[:5])"
   ]
  },
  {
   "cell_type": "code",
   "execution_count": null,
   "metadata": {},
   "outputs": [],
   "source": [
    "#adding movie_ids to budgets_df\n",
    "\n",
    "budgets_df['movie_id'] = [movie_ids_list[movie_akas_list.index( title )] if title in movie_akas_list \n",
    "                          else None for title in budgets_df['movie']]\n",
    "budgets_df"
   ]
  },
  {
   "cell_type": "code",
   "execution_count": null,
   "metadata": {},
   "outputs": [],
   "source": [
    "budgets_df.isna().sum()"
   ]
  },
  {
   "cell_type": "code",
   "execution_count": null,
   "metadata": {},
   "outputs": [],
   "source": [
    "#dropping na from budgets_df [movie_id]\n",
    "budgets_df.dropna(subset=[\"movie_id\"],axis=0,inplace=True)"
   ]
  },
  {
   "cell_type": "markdown",
   "metadata": {},
   "source": [
    "## Cleaning movie_basics"
   ]
  },
  {
   "cell_type": "code",
   "execution_count": null,
   "metadata": {},
   "outputs": [],
   "source": [
    "movie_basics = pd.read_sql(\"\"\"\n",
    "\n",
    "SELECT *\n",
    "FROM movie_basics\n",
    "\n",
    "\"\"\", conn)\n",
    "\n",
    "display(movie_basics.head())\n",
    "display(movie_basics.info())"
   ]
  },
  {
   "cell_type": "code",
   "execution_count": null,
   "metadata": {},
   "outputs": [],
   "source": [
    "# Making our sample for onlly the past 10 years\n",
    "\n",
    "recent_imdb_movies = pd.read_sql(\"\"\"\n",
    "SELECT * \n",
    "FROM movie_basics\n",
    "WHERE CAST(start_year AS int) BETWEEN 2013 AND 2023\n",
    "\"\"\", conn)\n",
    "\n",
    "recent_imdb_movies"
   ]
  },
  {
   "cell_type": "code",
   "execution_count": null,
   "metadata": {},
   "outputs": [],
   "source": [
    "# sorting table by years ascending\n",
    "recent_imdb_movies.sort_values('start_year')"
   ]
  },
  {
   "cell_type": "code",
   "execution_count": null,
   "metadata": {},
   "outputs": [],
   "source": [
    "budgets_df.dropna(subset=[\"movie_id\"],axis=0,inplace=True)"
   ]
  },
  {
   "cell_type": "markdown",
   "metadata": {},
   "source": [
    "## combining persons and directors so that we know person's name"
   ]
  },
  {
   "cell_type": "code",
   "execution_count": null,
   "metadata": {},
   "outputs": [],
   "source": [
    "persons = pd.read_sql(\"\"\"\n",
    "\n",
    "SELECT *\n",
    "FROM persons\n",
    "\n",
    "\"\"\", conn)\n",
    "\n",
    "persons\n",
    "\n",
    "display(persons.head())\n",
    "display(persons.info())"
   ]
  },
  {
   "cell_type": "code",
   "execution_count": null,
   "metadata": {
    "scrolled": true
   },
   "outputs": [],
   "source": [
    "directors = pd.read_sql(\"\"\"\n",
    "\n",
    "SELECT *\n",
    "FROM directors\n",
    "\n",
    "\"\"\", conn)\n",
    "\n",
    "directors\n",
    "\n",
    "display(directors.head())\n",
    "display(directors.info())"
   ]
  },
  {
   "cell_type": "code",
   "execution_count": null,
   "metadata": {},
   "outputs": [],
   "source": [
    "# create imdb_directors with director names and movie IDs\n",
    "imdb_directors = pd.read_sql(\"\"\"\n",
    "SELECT d.movie_id, p.primary_name FROM directors as d\n",
    "LEFT JOIN persons AS p\n",
    "    ON d.person_id = p.person_id\n",
    "GROUP BY d.movie_id\n",
    "\"\"\", conn)\n",
    "\n",
    "imdb_directors.head()"
   ]
  },
  {
   "cell_type": "code",
   "execution_count": null,
   "metadata": {
    "scrolled": true
   },
   "outputs": [],
   "source": [
    "directors_names = pd.read_sql(\"\"\"\n",
    "\n",
    "SELECT DISTINCT l.person_id, r.primary_title, r.original_title\n",
    "FROM directors AS l\n",
    "INNER JOIN movie_basics AS r\n",
    "    ON l.movie_id = r.movie_id\n",
    "\n",
    "\"\"\",conn)\n",
    "\n",
    "directors_names"
   ]
  },
  {
   "cell_type": "code",
   "execution_count": null,
   "metadata": {},
   "outputs": [],
   "source": []
  },
  {
   "cell_type": "markdown",
   "metadata": {},
   "source": [
    "https://www.statology.org/pandas-quantile-by-group/\n",
    "\n",
    "https://pandas.pydata.org/pandas-docs/version/0.17.0/generated/pandas.core.groupby.DataFrameGroupBy.quantile.html\n",
    "\n"
   ]
  },
  {
   "cell_type": "markdown",
   "metadata": {},
   "source": [
    "# ORGANIZED DATASET"
   ]
  },
  {
   "cell_type": "code",
   "execution_count": 2,
   "metadata": {},
   "outputs": [],
   "source": [
    "import pandas as pd\n",
    "import matplotlib.pyplot as plt\n",
    "import sqlite3\n",
    "%matplotlib inline"
   ]
  },
  {
   "cell_type": "code",
   "execution_count": 3,
   "metadata": {},
   "outputs": [],
   "source": [
    "pd.options.display.float_format = '{:20,.2f}'.format"
   ]
  },
  {
   "cell_type": "code",
   "execution_count": 4,
   "metadata": {},
   "outputs": [
    {
     "data": {
      "text/html": [
       "<div>\n",
       "<style scoped>\n",
       "    .dataframe tbody tr th:only-of-type {\n",
       "        vertical-align: middle;\n",
       "    }\n",
       "\n",
       "    .dataframe tbody tr th {\n",
       "        vertical-align: top;\n",
       "    }\n",
       "\n",
       "    .dataframe thead th {\n",
       "        text-align: right;\n",
       "    }\n",
       "</style>\n",
       "<table border=\"1\" class=\"dataframe\">\n",
       "  <thead>\n",
       "    <tr style=\"text-align: right;\">\n",
       "      <th></th>\n",
       "      <th>id</th>\n",
       "      <th>release_date</th>\n",
       "      <th>movie</th>\n",
       "      <th>production_budget</th>\n",
       "      <th>domestic_gross</th>\n",
       "      <th>worldwide_gross</th>\n",
       "    </tr>\n",
       "  </thead>\n",
       "  <tbody>\n",
       "    <tr>\n",
       "      <th>0</th>\n",
       "      <td>1</td>\n",
       "      <td>Dec 18, 2009</td>\n",
       "      <td>Avatar</td>\n",
       "      <td>$425,000,000</td>\n",
       "      <td>$760,507,625</td>\n",
       "      <td>$2,776,345,279</td>\n",
       "    </tr>\n",
       "    <tr>\n",
       "      <th>1</th>\n",
       "      <td>2</td>\n",
       "      <td>May 20, 2011</td>\n",
       "      <td>Pirates of the Caribbean: On Stranger Tides</td>\n",
       "      <td>$410,600,000</td>\n",
       "      <td>$241,063,875</td>\n",
       "      <td>$1,045,663,875</td>\n",
       "    </tr>\n",
       "    <tr>\n",
       "      <th>2</th>\n",
       "      <td>3</td>\n",
       "      <td>Jun 7, 2019</td>\n",
       "      <td>Dark Phoenix</td>\n",
       "      <td>$350,000,000</td>\n",
       "      <td>$42,762,350</td>\n",
       "      <td>$149,762,350</td>\n",
       "    </tr>\n",
       "    <tr>\n",
       "      <th>3</th>\n",
       "      <td>4</td>\n",
       "      <td>May 1, 2015</td>\n",
       "      <td>Avengers: Age of Ultron</td>\n",
       "      <td>$330,600,000</td>\n",
       "      <td>$459,005,868</td>\n",
       "      <td>$1,403,013,963</td>\n",
       "    </tr>\n",
       "    <tr>\n",
       "      <th>4</th>\n",
       "      <td>5</td>\n",
       "      <td>Dec 15, 2017</td>\n",
       "      <td>Star Wars Ep. VIII: The Last Jedi</td>\n",
       "      <td>$317,000,000</td>\n",
       "      <td>$620,181,382</td>\n",
       "      <td>$1,316,721,747</td>\n",
       "    </tr>\n",
       "  </tbody>\n",
       "</table>\n",
       "</div>"
      ],
      "text/plain": [
       "   id  release_date                                        movie  \\\n",
       "0   1  Dec 18, 2009                                       Avatar   \n",
       "1   2  May 20, 2011  Pirates of the Caribbean: On Stranger Tides   \n",
       "2   3   Jun 7, 2019                                 Dark Phoenix   \n",
       "3   4   May 1, 2015                      Avengers: Age of Ultron   \n",
       "4   5  Dec 15, 2017            Star Wars Ep. VIII: The Last Jedi   \n",
       "\n",
       "  production_budget domestic_gross worldwide_gross  \n",
       "0      $425,000,000   $760,507,625  $2,776,345,279  \n",
       "1      $410,600,000   $241,063,875  $1,045,663,875  \n",
       "2      $350,000,000    $42,762,350    $149,762,350  \n",
       "3      $330,600,000   $459,005,868  $1,403,013,963  \n",
       "4      $317,000,000   $620,181,382  $1,316,721,747  "
      ]
     },
     "metadata": {},
     "output_type": "display_data"
    },
    {
     "name": "stdout",
     "output_type": "stream",
     "text": [
      "<class 'pandas.core.frame.DataFrame'>\n",
      "RangeIndex: 5782 entries, 0 to 5781\n",
      "Data columns (total 6 columns):\n",
      " #   Column             Non-Null Count  Dtype \n",
      "---  ------             --------------  ----- \n",
      " 0   id                 5782 non-null   int64 \n",
      " 1   release_date       5782 non-null   object\n",
      " 2   movie              5782 non-null   object\n",
      " 3   production_budget  5782 non-null   object\n",
      " 4   domestic_gross     5782 non-null   object\n",
      " 5   worldwide_gross    5782 non-null   object\n",
      "dtypes: int64(1), object(5)\n",
      "memory usage: 271.2+ KB\n"
     ]
    },
    {
     "data": {
      "text/plain": [
       "None"
      ]
     },
     "metadata": {},
     "output_type": "display_data"
    }
   ],
   "source": [
    "## Dataframes we decided to use for analysis\n",
    "\n",
    "budgets_df = pd.read_csv('data/tn.movie_budgets.csv.gz')\n",
    "display(budgets_df.head())\n",
    "display(budgets_df.info())\n",
    "\n",
    "# REQUIRES UNZIPPING data/im.db.zip AS im.db\n",
    "\n",
    "conn = sqlite3.connect('data/im.db')"
   ]
  },
  {
   "cell_type": "code",
   "execution_count": 5,
   "metadata": {},
   "outputs": [],
   "source": [
    "recent_imdb_movies = pd.read_sql(\"\"\"\n",
    "SELECT * \n",
    "FROM movie_basics\n",
    "WHERE CAST(start_year AS int) BETWEEN 2013 AND 2023\n",
    "\"\"\", conn)\n",
    "\n",
    "movie_akas = pd.read_sql(\"\"\"\n",
    "SELECT *\n",
    "FROM movie_akas\n",
    "\"\"\", conn)\n",
    "\n",
    "imdb_directors = pd.read_sql(\"\"\"\n",
    "SELECT DISTINCT d.movie_id, p.person_id, p.primary_name \n",
    "FROM persons as p\n",
    "INNER JOIN directors AS d\n",
    "    ON d.person_id = p.person_id\n",
    "\"\"\", conn)\n",
    "\n"
   ]
  },
  {
   "cell_type": "code",
   "execution_count": null,
   "metadata": {},
   "outputs": [],
   "source": []
  },
  {
   "cell_type": "code",
   "execution_count": 6,
   "metadata": {},
   "outputs": [],
   "source": [
    "movie_akas = pd.read_sql(\"\"\"\n",
    "SELECT DISTINCT movie_id, title FROM movie_akas\n",
    "\"\"\",conn)"
   ]
  },
  {
   "cell_type": "code",
   "execution_count": 7,
   "metadata": {},
   "outputs": [],
   "source": [
    "# list-ifys the movie titles and movie IDs \n",
    "movie_akas_list = list(movie_akas['title'])\n",
    "movie_ids_list = list(movie_akas['movie_id'])"
   ]
  },
  {
   "cell_type": "code",
   "execution_count": 8,
   "metadata": {},
   "outputs": [
    {
     "data": {
      "text/html": [
       "<div>\n",
       "<style scoped>\n",
       "    .dataframe tbody tr th:only-of-type {\n",
       "        vertical-align: middle;\n",
       "    }\n",
       "\n",
       "    .dataframe tbody tr th {\n",
       "        vertical-align: top;\n",
       "    }\n",
       "\n",
       "    .dataframe thead th {\n",
       "        text-align: right;\n",
       "    }\n",
       "</style>\n",
       "<table border=\"1\" class=\"dataframe\">\n",
       "  <thead>\n",
       "    <tr style=\"text-align: right;\">\n",
       "      <th></th>\n",
       "      <th>id</th>\n",
       "      <th>release_date</th>\n",
       "      <th>movie</th>\n",
       "      <th>production_budget</th>\n",
       "      <th>domestic_gross</th>\n",
       "      <th>worldwide_gross</th>\n",
       "      <th>movie_id</th>\n",
       "    </tr>\n",
       "  </thead>\n",
       "  <tbody>\n",
       "    <tr>\n",
       "      <th>0</th>\n",
       "      <td>1</td>\n",
       "      <td>Dec 18, 2009</td>\n",
       "      <td>Avatar</td>\n",
       "      <td>$425,000,000</td>\n",
       "      <td>$760,507,625</td>\n",
       "      <td>$2,776,345,279</td>\n",
       "      <td>tt1775309</td>\n",
       "    </tr>\n",
       "    <tr>\n",
       "      <th>1</th>\n",
       "      <td>2</td>\n",
       "      <td>May 20, 2011</td>\n",
       "      <td>Pirates of the Caribbean: On Stranger Tides</td>\n",
       "      <td>$410,600,000</td>\n",
       "      <td>$241,063,875</td>\n",
       "      <td>$1,045,663,875</td>\n",
       "      <td>tt1298650</td>\n",
       "    </tr>\n",
       "    <tr>\n",
       "      <th>2</th>\n",
       "      <td>3</td>\n",
       "      <td>Jun 7, 2019</td>\n",
       "      <td>Dark Phoenix</td>\n",
       "      <td>$350,000,000</td>\n",
       "      <td>$42,762,350</td>\n",
       "      <td>$149,762,350</td>\n",
       "      <td>tt6565702</td>\n",
       "    </tr>\n",
       "    <tr>\n",
       "      <th>3</th>\n",
       "      <td>4</td>\n",
       "      <td>May 1, 2015</td>\n",
       "      <td>Avengers: Age of Ultron</td>\n",
       "      <td>$330,600,000</td>\n",
       "      <td>$459,005,868</td>\n",
       "      <td>$1,403,013,963</td>\n",
       "      <td>tt2395427</td>\n",
       "    </tr>\n",
       "    <tr>\n",
       "      <th>4</th>\n",
       "      <td>5</td>\n",
       "      <td>Dec 15, 2017</td>\n",
       "      <td>Star Wars Ep. VIII: The Last Jedi</td>\n",
       "      <td>$317,000,000</td>\n",
       "      <td>$620,181,382</td>\n",
       "      <td>$1,316,721,747</td>\n",
       "      <td>None</td>\n",
       "    </tr>\n",
       "    <tr>\n",
       "      <th>...</th>\n",
       "      <td>...</td>\n",
       "      <td>...</td>\n",
       "      <td>...</td>\n",
       "      <td>...</td>\n",
       "      <td>...</td>\n",
       "      <td>...</td>\n",
       "      <td>...</td>\n",
       "    </tr>\n",
       "    <tr>\n",
       "      <th>5777</th>\n",
       "      <td>78</td>\n",
       "      <td>Dec 31, 2018</td>\n",
       "      <td>Red 11</td>\n",
       "      <td>$7,000</td>\n",
       "      <td>$0</td>\n",
       "      <td>$0</td>\n",
       "      <td>tt7837402</td>\n",
       "    </tr>\n",
       "    <tr>\n",
       "      <th>5778</th>\n",
       "      <td>79</td>\n",
       "      <td>Apr 2, 1999</td>\n",
       "      <td>Following</td>\n",
       "      <td>$6,000</td>\n",
       "      <td>$48,482</td>\n",
       "      <td>$240,495</td>\n",
       "      <td>None</td>\n",
       "    </tr>\n",
       "    <tr>\n",
       "      <th>5779</th>\n",
       "      <td>80</td>\n",
       "      <td>Jul 13, 2005</td>\n",
       "      <td>Return to the Land of Wonders</td>\n",
       "      <td>$5,000</td>\n",
       "      <td>$1,338</td>\n",
       "      <td>$1,338</td>\n",
       "      <td>None</td>\n",
       "    </tr>\n",
       "    <tr>\n",
       "      <th>5780</th>\n",
       "      <td>81</td>\n",
       "      <td>Sep 29, 2015</td>\n",
       "      <td>A Plague So Pleasant</td>\n",
       "      <td>$1,400</td>\n",
       "      <td>$0</td>\n",
       "      <td>$0</td>\n",
       "      <td>tt2107644</td>\n",
       "    </tr>\n",
       "    <tr>\n",
       "      <th>5781</th>\n",
       "      <td>82</td>\n",
       "      <td>Aug 5, 2005</td>\n",
       "      <td>My Date With Drew</td>\n",
       "      <td>$1,100</td>\n",
       "      <td>$181,041</td>\n",
       "      <td>$181,041</td>\n",
       "      <td>None</td>\n",
       "    </tr>\n",
       "  </tbody>\n",
       "</table>\n",
       "<p>5782 rows × 7 columns</p>\n",
       "</div>"
      ],
      "text/plain": [
       "      id  release_date                                        movie  \\\n",
       "0      1  Dec 18, 2009                                       Avatar   \n",
       "1      2  May 20, 2011  Pirates of the Caribbean: On Stranger Tides   \n",
       "2      3   Jun 7, 2019                                 Dark Phoenix   \n",
       "3      4   May 1, 2015                      Avengers: Age of Ultron   \n",
       "4      5  Dec 15, 2017            Star Wars Ep. VIII: The Last Jedi   \n",
       "...   ..           ...                                          ...   \n",
       "5777  78  Dec 31, 2018                                       Red 11   \n",
       "5778  79   Apr 2, 1999                                    Following   \n",
       "5779  80  Jul 13, 2005                Return to the Land of Wonders   \n",
       "5780  81  Sep 29, 2015                         A Plague So Pleasant   \n",
       "5781  82   Aug 5, 2005                            My Date With Drew   \n",
       "\n",
       "     production_budget domestic_gross worldwide_gross   movie_id  \n",
       "0         $425,000,000   $760,507,625  $2,776,345,279  tt1775309  \n",
       "1         $410,600,000   $241,063,875  $1,045,663,875  tt1298650  \n",
       "2         $350,000,000    $42,762,350    $149,762,350  tt6565702  \n",
       "3         $330,600,000   $459,005,868  $1,403,013,963  tt2395427  \n",
       "4         $317,000,000   $620,181,382  $1,316,721,747       None  \n",
       "...                ...            ...             ...        ...  \n",
       "5777            $7,000             $0              $0  tt7837402  \n",
       "5778            $6,000        $48,482        $240,495       None  \n",
       "5779            $5,000         $1,338          $1,338       None  \n",
       "5780            $1,400             $0              $0  tt2107644  \n",
       "5781            $1,100       $181,041        $181,041       None  \n",
       "\n",
       "[5782 rows x 7 columns]"
      ]
     },
     "execution_count": 8,
     "metadata": {},
     "output_type": "execute_result"
    }
   ],
   "source": [
    "#adding movie_ids to budgets_df\n",
    "\n",
    "budgets_df['movie_id'] = [movie_ids_list[movie_akas_list.index( title )] if title in movie_akas_list \n",
    "                          else None for title in budgets_df['movie']]\n",
    "budgets_df"
   ]
  },
  {
   "cell_type": "code",
   "execution_count": 9,
   "metadata": {},
   "outputs": [],
   "source": [
    "budgets_df.dropna(subset=['movie_id'],inplace=True)"
   ]
  },
  {
   "cell_type": "code",
   "execution_count": 10,
   "metadata": {},
   "outputs": [],
   "source": [
    "budgets_df.drop_duplicates(subset=['movie_id'],inplace=True)"
   ]
  },
  {
   "cell_type": "code",
   "execution_count": 11,
   "metadata": {},
   "outputs": [],
   "source": [
    "budgets_df['production_budget'] = (budgets_df['production_budget'].str.replace('$', '')\n",
    "                                   .str.replace(',', '').astype(int))\n",
    "budgets_df['domestic_gross'] = budgets_df['domestic_gross'].str.replace('$', '').str.replace(',', '').astype(int)\n",
    "budgets_df['worldwide_gross'] = budgets_df['worldwide_gross'].str.replace('$', '').str.replace(',', '').astype(int)"
   ]
  },
  {
   "cell_type": "code",
   "execution_count": 12,
   "metadata": {},
   "outputs": [],
   "source": [
    "budgets_df['foreign_gross'] = budgets_df['worldwide_gross'] - budgets_df['domestic_gross']\n",
    "budgets_df['domestic_margin'] = budgets_df['domestic_gross'] - budgets_df['production_budget']\n",
    "budgets_df['worldwide_margin'] = budgets_df['worldwide_gross'] - budgets_df['production_budget']\n",
    "budgets_df['foreign_margin'] = budgets_df['foreign_gross'] - budgets_df['production_budget']"
   ]
  },
  {
   "cell_type": "code",
   "execution_count": 13,
   "metadata": {},
   "outputs": [
    {
     "data": {
      "text/html": [
       "<div>\n",
       "<style scoped>\n",
       "    .dataframe tbody tr th:only-of-type {\n",
       "        vertical-align: middle;\n",
       "    }\n",
       "\n",
       "    .dataframe tbody tr th {\n",
       "        vertical-align: top;\n",
       "    }\n",
       "\n",
       "    .dataframe thead th {\n",
       "        text-align: right;\n",
       "    }\n",
       "</style>\n",
       "<table border=\"1\" class=\"dataframe\">\n",
       "  <thead>\n",
       "    <tr style=\"text-align: right;\">\n",
       "      <th></th>\n",
       "      <th>id</th>\n",
       "      <th>release_date</th>\n",
       "      <th>movie</th>\n",
       "      <th>production_budget</th>\n",
       "      <th>domestic_gross</th>\n",
       "      <th>worldwide_gross</th>\n",
       "      <th>movie_id</th>\n",
       "      <th>foreign_gross</th>\n",
       "      <th>domestic_margin</th>\n",
       "      <th>worldwide_margin</th>\n",
       "      <th>foreign_margin</th>\n",
       "    </tr>\n",
       "  </thead>\n",
       "  <tbody>\n",
       "    <tr>\n",
       "      <th>0</th>\n",
       "      <td>1</td>\n",
       "      <td>Dec 18, 2009</td>\n",
       "      <td>Avatar</td>\n",
       "      <td>425000000</td>\n",
       "      <td>760507625</td>\n",
       "      <td>2776345279</td>\n",
       "      <td>tt1775309</td>\n",
       "      <td>2015837654</td>\n",
       "      <td>335507625</td>\n",
       "      <td>2351345279</td>\n",
       "      <td>1590837654</td>\n",
       "    </tr>\n",
       "    <tr>\n",
       "      <th>1</th>\n",
       "      <td>2</td>\n",
       "      <td>May 20, 2011</td>\n",
       "      <td>Pirates of the Caribbean: On Stranger Tides</td>\n",
       "      <td>410600000</td>\n",
       "      <td>241063875</td>\n",
       "      <td>1045663875</td>\n",
       "      <td>tt1298650</td>\n",
       "      <td>804600000</td>\n",
       "      <td>-169536125</td>\n",
       "      <td>635063875</td>\n",
       "      <td>394000000</td>\n",
       "    </tr>\n",
       "    <tr>\n",
       "      <th>2</th>\n",
       "      <td>3</td>\n",
       "      <td>Jun 7, 2019</td>\n",
       "      <td>Dark Phoenix</td>\n",
       "      <td>350000000</td>\n",
       "      <td>42762350</td>\n",
       "      <td>149762350</td>\n",
       "      <td>tt6565702</td>\n",
       "      <td>107000000</td>\n",
       "      <td>-307237650</td>\n",
       "      <td>-200237650</td>\n",
       "      <td>-243000000</td>\n",
       "    </tr>\n",
       "    <tr>\n",
       "      <th>3</th>\n",
       "      <td>4</td>\n",
       "      <td>May 1, 2015</td>\n",
       "      <td>Avengers: Age of Ultron</td>\n",
       "      <td>330600000</td>\n",
       "      <td>459005868</td>\n",
       "      <td>1403013963</td>\n",
       "      <td>tt2395427</td>\n",
       "      <td>944008095</td>\n",
       "      <td>128405868</td>\n",
       "      <td>1072413963</td>\n",
       "      <td>613408095</td>\n",
       "    </tr>\n",
       "    <tr>\n",
       "      <th>6</th>\n",
       "      <td>7</td>\n",
       "      <td>Apr 27, 2018</td>\n",
       "      <td>Avengers: Infinity War</td>\n",
       "      <td>300000000</td>\n",
       "      <td>678815482</td>\n",
       "      <td>2048134200</td>\n",
       "      <td>tt4154756</td>\n",
       "      <td>1369318718</td>\n",
       "      <td>378815482</td>\n",
       "      <td>1748134200</td>\n",
       "      <td>1069318718</td>\n",
       "    </tr>\n",
       "  </tbody>\n",
       "</table>\n",
       "</div>"
      ],
      "text/plain": [
       "   id  release_date                                        movie  \\\n",
       "0   1  Dec 18, 2009                                       Avatar   \n",
       "1   2  May 20, 2011  Pirates of the Caribbean: On Stranger Tides   \n",
       "2   3   Jun 7, 2019                                 Dark Phoenix   \n",
       "3   4   May 1, 2015                      Avengers: Age of Ultron   \n",
       "6   7  Apr 27, 2018                       Avengers: Infinity War   \n",
       "\n",
       "   production_budget  domestic_gross  worldwide_gross   movie_id  \\\n",
       "0          425000000       760507625       2776345279  tt1775309   \n",
       "1          410600000       241063875       1045663875  tt1298650   \n",
       "2          350000000        42762350        149762350  tt6565702   \n",
       "3          330600000       459005868       1403013963  tt2395427   \n",
       "6          300000000       678815482       2048134200  tt4154756   \n",
       "\n",
       "   foreign_gross  domestic_margin  worldwide_margin  foreign_margin  \n",
       "0     2015837654        335507625        2351345279      1590837654  \n",
       "1      804600000       -169536125         635063875       394000000  \n",
       "2      107000000       -307237650        -200237650      -243000000  \n",
       "3      944008095        128405868        1072413963       613408095  \n",
       "6     1369318718        378815482        1748134200      1069318718  "
      ]
     },
     "execution_count": 13,
     "metadata": {},
     "output_type": "execute_result"
    }
   ],
   "source": [
    "budgets_df.head()"
   ]
  },
  {
   "cell_type": "code",
   "execution_count": 14,
   "metadata": {},
   "outputs": [
    {
     "name": "stdout",
     "output_type": "stream",
     "text": [
      "<class 'pandas.core.frame.DataFrame'>\n",
      "Int64Index: 1465 entries, 0 to 1464\n",
      "Data columns (total 16 columns):\n",
      " #   Column             Non-Null Count  Dtype  \n",
      "---  ------             --------------  -----  \n",
      " 0   id                 1465 non-null   int64  \n",
      " 1   release_date       1465 non-null   object \n",
      " 2   movie              1465 non-null   object \n",
      " 3   production_budget  1465 non-null   int64  \n",
      " 4   domestic_gross     1465 non-null   int64  \n",
      " 5   worldwide_gross    1465 non-null   int64  \n",
      " 6   movie_id           1465 non-null   object \n",
      " 7   foreign_gross      1465 non-null   int64  \n",
      " 8   domestic_margin    1465 non-null   int64  \n",
      " 9   worldwide_margin   1465 non-null   int64  \n",
      " 10  foreign_margin     1465 non-null   int64  \n",
      " 11  primary_title      1465 non-null   object \n",
      " 12  original_title     1465 non-null   object \n",
      " 13  start_year         1465 non-null   int64  \n",
      " 14  runtime_minutes    1375 non-null   float64\n",
      " 15  genres             1460 non-null   object \n",
      "dtypes: float64(1), int64(9), object(6)\n",
      "memory usage: 194.6+ KB\n"
     ]
    }
   ],
   "source": [
    "recent_movies = budgets_df.merge(recent_imdb_movies, on=\"movie_id\", how='inner')\n",
    "recent_movies.info()"
   ]
  },
  {
   "cell_type": "code",
   "execution_count": 15,
   "metadata": {},
   "outputs": [
    {
     "data": {
      "text/html": [
       "<div>\n",
       "<style scoped>\n",
       "    .dataframe tbody tr th:only-of-type {\n",
       "        vertical-align: middle;\n",
       "    }\n",
       "\n",
       "    .dataframe tbody tr th {\n",
       "        vertical-align: top;\n",
       "    }\n",
       "\n",
       "    .dataframe thead th {\n",
       "        text-align: right;\n",
       "    }\n",
       "</style>\n",
       "<table border=\"1\" class=\"dataframe\">\n",
       "  <thead>\n",
       "    <tr style=\"text-align: right;\">\n",
       "      <th></th>\n",
       "      <th>id</th>\n",
       "      <th>release_date</th>\n",
       "      <th>movie</th>\n",
       "      <th>production_budget</th>\n",
       "      <th>domestic_gross</th>\n",
       "      <th>worldwide_gross</th>\n",
       "      <th>movie_id</th>\n",
       "      <th>foreign_gross</th>\n",
       "      <th>domestic_margin</th>\n",
       "      <th>worldwide_margin</th>\n",
       "      <th>foreign_margin</th>\n",
       "      <th>primary_title</th>\n",
       "      <th>original_title</th>\n",
       "      <th>start_year</th>\n",
       "      <th>runtime_minutes</th>\n",
       "      <th>genres</th>\n",
       "      <th>person_id</th>\n",
       "      <th>primary_name</th>\n",
       "    </tr>\n",
       "  </thead>\n",
       "  <tbody>\n",
       "    <tr>\n",
       "      <th>0</th>\n",
       "      <td>3</td>\n",
       "      <td>Jun 7, 2019</td>\n",
       "      <td>Dark Phoenix</td>\n",
       "      <td>350000000</td>\n",
       "      <td>42762350</td>\n",
       "      <td>149762350</td>\n",
       "      <td>tt6565702</td>\n",
       "      <td>107000000</td>\n",
       "      <td>-307237650</td>\n",
       "      <td>-200237650</td>\n",
       "      <td>-243000000</td>\n",
       "      <td>Dark Phoenix</td>\n",
       "      <td>Dark Phoenix</td>\n",
       "      <td>2019</td>\n",
       "      <td>113.00</td>\n",
       "      <td>Action,Adventure,Sci-Fi</td>\n",
       "      <td>nm1334526</td>\n",
       "      <td>Simon Kinberg</td>\n",
       "    </tr>\n",
       "    <tr>\n",
       "      <th>1</th>\n",
       "      <td>4</td>\n",
       "      <td>May 1, 2015</td>\n",
       "      <td>Avengers: Age of Ultron</td>\n",
       "      <td>330600000</td>\n",
       "      <td>459005868</td>\n",
       "      <td>1403013963</td>\n",
       "      <td>tt2395427</td>\n",
       "      <td>944008095</td>\n",
       "      <td>128405868</td>\n",
       "      <td>1072413963</td>\n",
       "      <td>613408095</td>\n",
       "      <td>Avengers: Age of Ultron</td>\n",
       "      <td>Avengers: Age of Ultron</td>\n",
       "      <td>2015</td>\n",
       "      <td>141.00</td>\n",
       "      <td>Action,Adventure,Sci-Fi</td>\n",
       "      <td>nm0923736</td>\n",
       "      <td>Joss Whedon</td>\n",
       "    </tr>\n",
       "    <tr>\n",
       "      <th>2</th>\n",
       "      <td>7</td>\n",
       "      <td>Apr 27, 2018</td>\n",
       "      <td>Avengers: Infinity War</td>\n",
       "      <td>300000000</td>\n",
       "      <td>678815482</td>\n",
       "      <td>2048134200</td>\n",
       "      <td>tt4154756</td>\n",
       "      <td>1369318718</td>\n",
       "      <td>378815482</td>\n",
       "      <td>1748134200</td>\n",
       "      <td>1069318718</td>\n",
       "      <td>Avengers: Infinity War</td>\n",
       "      <td>Avengers: Infinity War</td>\n",
       "      <td>2018</td>\n",
       "      <td>149.00</td>\n",
       "      <td>Action,Adventure,Sci-Fi</td>\n",
       "      <td>nm0751648</td>\n",
       "      <td>Joe Russo</td>\n",
       "    </tr>\n",
       "    <tr>\n",
       "      <th>3</th>\n",
       "      <td>7</td>\n",
       "      <td>Apr 27, 2018</td>\n",
       "      <td>Avengers: Infinity War</td>\n",
       "      <td>300000000</td>\n",
       "      <td>678815482</td>\n",
       "      <td>2048134200</td>\n",
       "      <td>tt4154756</td>\n",
       "      <td>1369318718</td>\n",
       "      <td>378815482</td>\n",
       "      <td>1748134200</td>\n",
       "      <td>1069318718</td>\n",
       "      <td>Avengers: Infinity War</td>\n",
       "      <td>Avengers: Infinity War</td>\n",
       "      <td>2018</td>\n",
       "      <td>149.00</td>\n",
       "      <td>Action,Adventure,Sci-Fi</td>\n",
       "      <td>nm0751577</td>\n",
       "      <td>Anthony Russo</td>\n",
       "    </tr>\n",
       "    <tr>\n",
       "      <th>4</th>\n",
       "      <td>9</td>\n",
       "      <td>Nov 17, 2017</td>\n",
       "      <td>Justice League</td>\n",
       "      <td>300000000</td>\n",
       "      <td>229024295</td>\n",
       "      <td>655945209</td>\n",
       "      <td>tt0974015</td>\n",
       "      <td>426920914</td>\n",
       "      <td>-70975705</td>\n",
       "      <td>355945209</td>\n",
       "      <td>126920914</td>\n",
       "      <td>Justice League</td>\n",
       "      <td>Justice League</td>\n",
       "      <td>2017</td>\n",
       "      <td>120.00</td>\n",
       "      <td>Action,Adventure,Fantasy</td>\n",
       "      <td>nm0811583</td>\n",
       "      <td>Zack Snyder</td>\n",
       "    </tr>\n",
       "  </tbody>\n",
       "</table>\n",
       "</div>"
      ],
      "text/plain": [
       "   id  release_date                    movie  production_budget  \\\n",
       "0   3   Jun 7, 2019             Dark Phoenix          350000000   \n",
       "1   4   May 1, 2015  Avengers: Age of Ultron          330600000   \n",
       "2   7  Apr 27, 2018   Avengers: Infinity War          300000000   \n",
       "3   7  Apr 27, 2018   Avengers: Infinity War          300000000   \n",
       "4   9  Nov 17, 2017           Justice League          300000000   \n",
       "\n",
       "   domestic_gross  worldwide_gross   movie_id  foreign_gross  domestic_margin  \\\n",
       "0        42762350        149762350  tt6565702      107000000       -307237650   \n",
       "1       459005868       1403013963  tt2395427      944008095        128405868   \n",
       "2       678815482       2048134200  tt4154756     1369318718        378815482   \n",
       "3       678815482       2048134200  tt4154756     1369318718        378815482   \n",
       "4       229024295        655945209  tt0974015      426920914        -70975705   \n",
       "\n",
       "   worldwide_margin  foreign_margin            primary_title  \\\n",
       "0        -200237650      -243000000             Dark Phoenix   \n",
       "1        1072413963       613408095  Avengers: Age of Ultron   \n",
       "2        1748134200      1069318718   Avengers: Infinity War   \n",
       "3        1748134200      1069318718   Avengers: Infinity War   \n",
       "4         355945209       126920914           Justice League   \n",
       "\n",
       "            original_title  start_year      runtime_minutes  \\\n",
       "0             Dark Phoenix        2019               113.00   \n",
       "1  Avengers: Age of Ultron        2015               141.00   \n",
       "2   Avengers: Infinity War        2018               149.00   \n",
       "3   Avengers: Infinity War        2018               149.00   \n",
       "4           Justice League        2017               120.00   \n",
       "\n",
       "                     genres  person_id   primary_name  \n",
       "0   Action,Adventure,Sci-Fi  nm1334526  Simon Kinberg  \n",
       "1   Action,Adventure,Sci-Fi  nm0923736    Joss Whedon  \n",
       "2   Action,Adventure,Sci-Fi  nm0751648      Joe Russo  \n",
       "3   Action,Adventure,Sci-Fi  nm0751577  Anthony Russo  \n",
       "4  Action,Adventure,Fantasy  nm0811583    Zack Snyder  "
      ]
     },
     "execution_count": 15,
     "metadata": {},
     "output_type": "execute_result"
    }
   ],
   "source": [
    "movies_directors = recent_movies.merge(imdb_directors, on=\"movie_id\", how='inner')\n",
    "movies_directors.head()"
   ]
  },
  {
   "cell_type": "code",
   "execution_count": 16,
   "metadata": {},
   "outputs": [
    {
     "data": {
      "text/plain": [
       "0           Simon Kinberg\n",
       "1             Joss Whedon\n",
       "2               Joe Russo\n",
       "3           Anthony Russo\n",
       "4             Zack Snyder\n",
       "              ...        \n",
       "1610    Uwe Schwarzwalder\n",
       "1611    Zarina Tadjibaeva\n",
       "1612     Robert Rodriguez\n",
       "1613     Benjamin Roberds\n",
       "1614         Jordan Reyes\n",
       "Name: primary_name, Length: 1615, dtype: object"
      ]
     },
     "execution_count": 16,
     "metadata": {},
     "output_type": "execute_result"
    }
   ],
   "source": [
    "movies_directors['primary_name']"
   ]
  },
  {
   "cell_type": "code",
   "execution_count": 17,
   "metadata": {},
   "outputs": [],
   "source": [
    "def initials(full_name):\n",
    "  initial=\"\"\n",
    "  if (len(full_name) == 0):\n",
    "    return\n",
    "    \n",
    "  first_middle_last = full_name.split(\" \")\n",
    "  for name in first_middle_last:\n",
    "    initial=initial+name[0].upper()+\".\"\n",
    "  return initial"
   ]
  },
  {
   "cell_type": "code",
   "execution_count": 18,
   "metadata": {},
   "outputs": [
    {
     "name": "stdout",
     "output_type": "stream",
     "text": [
      "Initals generated: M.K.G.\n"
     ]
    }
   ],
   "source": [
    "full_name=\"Mohandas Karamchand gandhi\"\n",
    "print(f\"Initals generated: {initials(full_name)}\")"
   ]
  },
  {
   "cell_type": "code",
   "execution_count": 19,
   "metadata": {},
   "outputs": [
    {
     "ename": "AttributeError",
     "evalue": "'Series' object has no attribute 'split'",
     "output_type": "error",
     "traceback": [
      "\u001b[0;31m---------------------------------------------------------------------------\u001b[0m",
      "\u001b[0;31mAttributeError\u001b[0m                            Traceback (most recent call last)",
      "\u001b[0;32m<ipython-input-19-bce0a1f2bf83>\u001b[0m in \u001b[0;36m<module>\u001b[0;34m\u001b[0m\n\u001b[1;32m      1\u001b[0m \u001b[0mfull_name\u001b[0m \u001b[0;34m=\u001b[0m \u001b[0mmovies_directors\u001b[0m\u001b[0;34m[\u001b[0m\u001b[0;34m'primary_name'\u001b[0m\u001b[0;34m]\u001b[0m\u001b[0;34m[\u001b[0m\u001b[0;36m0\u001b[0m\u001b[0;34m:\u001b[0m\u001b[0;36m24\u001b[0m\u001b[0;34m]\u001b[0m\u001b[0;34m\u001b[0m\u001b[0;34m\u001b[0m\u001b[0m\n\u001b[0;32m----> 2\u001b[0;31m \u001b[0mprint\u001b[0m\u001b[0;34m(\u001b[0m\u001b[0minitials\u001b[0m\u001b[0;34m(\u001b[0m\u001b[0mfull_name\u001b[0m\u001b[0;34m)\u001b[0m\u001b[0;34m)\u001b[0m\u001b[0;34m\u001b[0m\u001b[0;34m\u001b[0m\u001b[0m\n\u001b[0m",
      "\u001b[0;32m<ipython-input-17-cbad9cb08c3c>\u001b[0m in \u001b[0;36minitials\u001b[0;34m(full_name)\u001b[0m\n\u001b[1;32m      4\u001b[0m     \u001b[0;32mreturn\u001b[0m\u001b[0;34m\u001b[0m\u001b[0;34m\u001b[0m\u001b[0m\n\u001b[1;32m      5\u001b[0m \u001b[0;34m\u001b[0m\u001b[0m\n\u001b[0;32m----> 6\u001b[0;31m   \u001b[0mfirst_middle_last\u001b[0m \u001b[0;34m=\u001b[0m \u001b[0mfull_name\u001b[0m\u001b[0;34m.\u001b[0m\u001b[0msplit\u001b[0m\u001b[0;34m(\u001b[0m\u001b[0;34m\" \"\u001b[0m\u001b[0;34m)\u001b[0m\u001b[0;34m\u001b[0m\u001b[0;34m\u001b[0m\u001b[0m\n\u001b[0m\u001b[1;32m      7\u001b[0m   \u001b[0;32mfor\u001b[0m \u001b[0mname\u001b[0m \u001b[0;32min\u001b[0m \u001b[0mfirst_middle_last\u001b[0m\u001b[0;34m:\u001b[0m\u001b[0;34m\u001b[0m\u001b[0;34m\u001b[0m\u001b[0m\n\u001b[1;32m      8\u001b[0m     \u001b[0minitial\u001b[0m\u001b[0;34m=\u001b[0m\u001b[0minitial\u001b[0m\u001b[0;34m+\u001b[0m\u001b[0mname\u001b[0m\u001b[0;34m[\u001b[0m\u001b[0;36m0\u001b[0m\u001b[0;34m]\u001b[0m\u001b[0;34m.\u001b[0m\u001b[0mupper\u001b[0m\u001b[0;34m(\u001b[0m\u001b[0;34m)\u001b[0m\u001b[0;34m+\u001b[0m\u001b[0;34m\".\"\u001b[0m\u001b[0;34m\u001b[0m\u001b[0;34m\u001b[0m\u001b[0m\n",
      "\u001b[0;32m~/opt/anaconda3/envs/learn-env/lib/python3.8/site-packages/pandas/core/generic.py\u001b[0m in \u001b[0;36m__getattr__\u001b[0;34m(self, name)\u001b[0m\n\u001b[1;32m   5137\u001b[0m             \u001b[0;32mif\u001b[0m \u001b[0mself\u001b[0m\u001b[0;34m.\u001b[0m\u001b[0m_info_axis\u001b[0m\u001b[0;34m.\u001b[0m\u001b[0m_can_hold_identifiers_and_holds_name\u001b[0m\u001b[0;34m(\u001b[0m\u001b[0mname\u001b[0m\u001b[0;34m)\u001b[0m\u001b[0;34m:\u001b[0m\u001b[0;34m\u001b[0m\u001b[0;34m\u001b[0m\u001b[0m\n\u001b[1;32m   5138\u001b[0m                 \u001b[0;32mreturn\u001b[0m \u001b[0mself\u001b[0m\u001b[0;34m[\u001b[0m\u001b[0mname\u001b[0m\u001b[0;34m]\u001b[0m\u001b[0;34m\u001b[0m\u001b[0;34m\u001b[0m\u001b[0m\n\u001b[0;32m-> 5139\u001b[0;31m             \u001b[0;32mreturn\u001b[0m \u001b[0mobject\u001b[0m\u001b[0;34m.\u001b[0m\u001b[0m__getattribute__\u001b[0m\u001b[0;34m(\u001b[0m\u001b[0mself\u001b[0m\u001b[0;34m,\u001b[0m \u001b[0mname\u001b[0m\u001b[0;34m)\u001b[0m\u001b[0;34m\u001b[0m\u001b[0;34m\u001b[0m\u001b[0m\n\u001b[0m\u001b[1;32m   5140\u001b[0m \u001b[0;34m\u001b[0m\u001b[0m\n\u001b[1;32m   5141\u001b[0m     \u001b[0;32mdef\u001b[0m \u001b[0m__setattr__\u001b[0m\u001b[0;34m(\u001b[0m\u001b[0mself\u001b[0m\u001b[0;34m,\u001b[0m \u001b[0mname\u001b[0m\u001b[0;34m:\u001b[0m \u001b[0mstr\u001b[0m\u001b[0;34m,\u001b[0m \u001b[0mvalue\u001b[0m\u001b[0;34m)\u001b[0m \u001b[0;34m->\u001b[0m \u001b[0;32mNone\u001b[0m\u001b[0;34m:\u001b[0m\u001b[0;34m\u001b[0m\u001b[0;34m\u001b[0m\u001b[0m\n",
      "\u001b[0;31mAttributeError\u001b[0m: 'Series' object has no attribute 'split'"
     ]
    }
   ],
   "source": [
    "full_name = movies_directors['primary_name'][0:24]\n",
    "print(initials(full_name))"
   ]
  },
  {
   "cell_type": "code",
   "execution_count": null,
   "metadata": {},
   "outputs": [],
   "source": []
  },
  {
   "cell_type": "code",
   "execution_count": null,
   "metadata": {},
   "outputs": [],
   "source": []
  },
  {
   "cell_type": "markdown",
   "metadata": {},
   "source": [
    "## DATA ANALYSIS"
   ]
  },
  {
   "cell_type": "code",
   "execution_count": 20,
   "metadata": {},
   "outputs": [],
   "source": [
    "from scipy import stats\n",
    "import seaborn as sns\n",
    "import numpy as np"
   ]
  },
  {
   "cell_type": "markdown",
   "metadata": {},
   "source": [
    "### bar graph for top 15 directors by worldwide margin median"
   ]
  },
  {
   "cell_type": "code",
   "execution_count": 21,
   "metadata": {},
   "outputs": [],
   "source": [
    "director_wwmargin_median = movies_directors.groupby(\n",
    "    ['primary_name', 'person_id'], as_index=False\n",
    ")['worldwide_margin'].median().sort_values(by='worldwide_margin', ascending=False)[:25]"
   ]
  },
  {
   "cell_type": "code",
   "execution_count": 22,
   "metadata": {
    "scrolled": true
   },
   "outputs": [
    {
     "data": {
      "text/html": [
       "<div>\n",
       "<style scoped>\n",
       "    .dataframe tbody tr th:only-of-type {\n",
       "        vertical-align: middle;\n",
       "    }\n",
       "\n",
       "    .dataframe tbody tr th {\n",
       "        vertical-align: top;\n",
       "    }\n",
       "\n",
       "    .dataframe thead th {\n",
       "        text-align: right;\n",
       "    }\n",
       "</style>\n",
       "<table border=\"1\" class=\"dataframe\">\n",
       "  <thead>\n",
       "    <tr style=\"text-align: right;\">\n",
       "      <th></th>\n",
       "      <th>primary_name</th>\n",
       "      <th>person_id</th>\n",
       "      <th>worldwide_margin</th>\n",
       "    </tr>\n",
       "  </thead>\n",
       "  <tbody>\n",
       "    <tr>\n",
       "      <th>254</th>\n",
       "      <td>Colin Trevorrow</td>\n",
       "      <td>nm1119880</td>\n",
       "      <td>1,433,854,864.00</td>\n",
       "    </tr>\n",
       "    <tr>\n",
       "      <th>235</th>\n",
       "      <td>Christophe Gans</td>\n",
       "      <td>nm0304521</td>\n",
       "      <td>1,099,199,706.00</td>\n",
       "    </tr>\n",
       "    <tr>\n",
       "      <th>668</th>\n",
       "      <td>Joss Whedon</td>\n",
       "      <td>nm0923736</td>\n",
       "      <td>1,072,413,963.00</td>\n",
       "    </tr>\n",
       "    <tr>\n",
       "      <th>737</th>\n",
       "      <td>Kyle Balda</td>\n",
       "      <td>nm0049633</td>\n",
       "      <td>1,023,031,961.50</td>\n",
       "    </tr>\n",
       "    <tr>\n",
       "      <th>999</th>\n",
       "      <td>Pierre Coffin</td>\n",
       "      <td>nm1853544</td>\n",
       "      <td>959,727,750.00</td>\n",
       "    </tr>\n",
       "    <tr>\n",
       "      <th>399</th>\n",
       "      <td>Eric Guillon</td>\n",
       "      <td>nm3210494</td>\n",
       "      <td>959,727,750.00</td>\n",
       "    </tr>\n",
       "    <tr>\n",
       "      <th>627</th>\n",
       "      <td>Jon Favreau</td>\n",
       "      <td>nm0269463</td>\n",
       "      <td>906,914,868.00</td>\n",
       "    </tr>\n",
       "    <tr>\n",
       "      <th>103</th>\n",
       "      <td>Anthony Russo</td>\n",
       "      <td>nm0751577</td>\n",
       "      <td>890,069,413.00</td>\n",
       "    </tr>\n",
       "    <tr>\n",
       "      <th>595</th>\n",
       "      <td>Joe Russo</td>\n",
       "      <td>nm0751648</td>\n",
       "      <td>890,069,413.00</td>\n",
       "    </tr>\n",
       "    <tr>\n",
       "      <th>190</th>\n",
       "      <td>Byron Howard</td>\n",
       "      <td>nm0397174</td>\n",
       "      <td>869,429,616.00</td>\n",
       "    </tr>\n",
       "    <tr>\n",
       "      <th>1038</th>\n",
       "      <td>Rich Moore</td>\n",
       "      <td>nm0601781</td>\n",
       "      <td>869,429,616.00</td>\n",
       "    </tr>\n",
       "    <tr>\n",
       "      <th>538</th>\n",
       "      <td>Jared Bush</td>\n",
       "      <td>nm1158544</td>\n",
       "      <td>869,429,616.00</td>\n",
       "    </tr>\n",
       "    <tr>\n",
       "      <th>83</th>\n",
       "      <td>Angus MacLane</td>\n",
       "      <td>nm0533691</td>\n",
       "      <td>821,215,193.00</td>\n",
       "    </tr>\n",
       "    <tr>\n",
       "      <th>71</th>\n",
       "      <td>Andrew Stanton</td>\n",
       "      <td>nm0004056</td>\n",
       "      <td>821,215,193.00</td>\n",
       "    </tr>\n",
       "    <tr>\n",
       "      <th>225</th>\n",
       "      <td>Chris Renaud</td>\n",
       "      <td>nm0719208</td>\n",
       "      <td>811,750,534.00</td>\n",
       "    </tr>\n",
       "    <tr>\n",
       "      <th>717</th>\n",
       "      <td>Kevin Johnson</td>\n",
       "      <td>nm0425557</td>\n",
       "      <td>787,854,547.00</td>\n",
       "    </tr>\n",
       "    <tr>\n",
       "      <th>673</th>\n",
       "      <td>Jun Falkenstein</td>\n",
       "      <td>nm0266255</td>\n",
       "      <td>787,854,547.00</td>\n",
       "    </tr>\n",
       "    <tr>\n",
       "      <th>1245</th>\n",
       "      <td>Tim Miller</td>\n",
       "      <td>nm1783265</td>\n",
       "      <td>743,025,593.00</td>\n",
       "    </tr>\n",
       "    <tr>\n",
       "      <th>985</th>\n",
       "      <td>Peter Jackson</td>\n",
       "      <td>nm0001392</td>\n",
       "      <td>702,972,238.00</td>\n",
       "    </tr>\n",
       "    <tr>\n",
       "      <th>25</th>\n",
       "      <td>Alastair Siddons</td>\n",
       "      <td>nm3322414</td>\n",
       "      <td>679,235,992.00</td>\n",
       "    </tr>\n",
       "    <tr>\n",
       "      <th>966</th>\n",
       "      <td>Patty Jenkins</td>\n",
       "      <td>nm0420941</td>\n",
       "      <td>671,133,378.00</td>\n",
       "    </tr>\n",
       "    <tr>\n",
       "      <th>79</th>\n",
       "      <td>Andy Muschietti</td>\n",
       "      <td>nm0615592</td>\n",
       "      <td>662,457,969.00</td>\n",
       "    </tr>\n",
       "    <tr>\n",
       "      <th>532</th>\n",
       "      <td>James Wan</td>\n",
       "      <td>nm1490123</td>\n",
       "      <td>642,447,390.50</td>\n",
       "    </tr>\n",
       "    <tr>\n",
       "      <th>15</th>\n",
       "      <td>Adrian Molina</td>\n",
       "      <td>nm2937122</td>\n",
       "      <td>623,008,101.00</td>\n",
       "    </tr>\n",
       "    <tr>\n",
       "      <th>756</th>\n",
       "      <td>Lee Unkrich</td>\n",
       "      <td>nm0881279</td>\n",
       "      <td>623,008,101.00</td>\n",
       "    </tr>\n",
       "  </tbody>\n",
       "</table>\n",
       "</div>"
      ],
      "text/plain": [
       "          primary_name  person_id     worldwide_margin\n",
       "254    Colin Trevorrow  nm1119880     1,433,854,864.00\n",
       "235    Christophe Gans  nm0304521     1,099,199,706.00\n",
       "668        Joss Whedon  nm0923736     1,072,413,963.00\n",
       "737         Kyle Balda  nm0049633     1,023,031,961.50\n",
       "999      Pierre Coffin  nm1853544       959,727,750.00\n",
       "399       Eric Guillon  nm3210494       959,727,750.00\n",
       "627        Jon Favreau  nm0269463       906,914,868.00\n",
       "103      Anthony Russo  nm0751577       890,069,413.00\n",
       "595          Joe Russo  nm0751648       890,069,413.00\n",
       "190       Byron Howard  nm0397174       869,429,616.00\n",
       "1038        Rich Moore  nm0601781       869,429,616.00\n",
       "538         Jared Bush  nm1158544       869,429,616.00\n",
       "83       Angus MacLane  nm0533691       821,215,193.00\n",
       "71      Andrew Stanton  nm0004056       821,215,193.00\n",
       "225       Chris Renaud  nm0719208       811,750,534.00\n",
       "717      Kevin Johnson  nm0425557       787,854,547.00\n",
       "673    Jun Falkenstein  nm0266255       787,854,547.00\n",
       "1245        Tim Miller  nm1783265       743,025,593.00\n",
       "985      Peter Jackson  nm0001392       702,972,238.00\n",
       "25    Alastair Siddons  nm3322414       679,235,992.00\n",
       "966      Patty Jenkins  nm0420941       671,133,378.00\n",
       "79     Andy Muschietti  nm0615592       662,457,969.00\n",
       "532          James Wan  nm1490123       642,447,390.50\n",
       "15       Adrian Molina  nm2937122       623,008,101.00\n",
       "756        Lee Unkrich  nm0881279       623,008,101.00"
      ]
     },
     "execution_count": 22,
     "metadata": {},
     "output_type": "execute_result"
    }
   ],
   "source": [
    "director_wwmargin_median"
   ]
  },
  {
   "cell_type": "code",
   "execution_count": 23,
   "metadata": {},
   "outputs": [
    {
     "data": {
      "image/png": "[encoded data removed]",
      "text/plain": [
       "<Figure size 1152x504 with 1 Axes>"
      ]
     },
     "metadata": {
      "needs_background": "light"
     },
     "output_type": "display_data"
    }
   ],
   "source": [
    "fig, ax = plt.subplots(figsize=(16, 7))\n",
    "ax.set(\n",
    "    title = \"Top 15 Worldwide Margin Directors\", \n",
    "    xlabel = \"Director Names\",\n",
    "    ylabel = \"Median Worldwide Margin\"\n",
    ")\n",
    "\n",
    "\n",
    "x = director_wwmargin_median['primary_name']\n",
    "y = director_wwmargin_median['worldwide_margin']\n",
    "\n",
    "ax.bar(x, y)\n",
    "plt.xticks(rotation=50)\n",
    "plt.rc('font', size = 10)\n",
    "\"\";"
   ]
  },
  {
   "cell_type": "code",
   "execution_count": 24,
   "metadata": {},
   "outputs": [
    {
     "ename": "SyntaxError",
     "evalue": "invalid syntax (<ipython-input-24-577d770a77d3>, line 4)",
     "output_type": "error",
     "traceback": [
      "\u001b[0;36m  File \u001b[0;32m\"<ipython-input-24-577d770a77d3>\"\u001b[0;36m, line \u001b[0;32m4\u001b[0m\n\u001b[0;31m    name = input(movies_directors['']'Type your name and press ENTER. ')\u001b[0m\n\u001b[0m                                     ^\u001b[0m\n\u001b[0;31mSyntaxError\u001b[0m\u001b[0;31m:\u001b[0m invalid syntax\n"
     ]
    }
   ],
   "source": [
    "def initial():\n",
    "\n",
    "\n",
    "    name = input(movies_directors['']'Type your name and press ENTER. ')\n",
    "    name_list = name.split()\n",
    "\n",
    "    print(name_list)\n",
    "\n",
    "    first = name_list[0][0]\n",
    "    second = name_list[1][0]\n",
    "    last = name_list[2][0]\n",
    "\n",
    "    print(first.upper(),'.', second.upper(),'.', last.upper()) \n",
    "\n",
    "\n",
    "main()"
   ]
  },
  {
   "cell_type": "markdown",
   "metadata": {},
   "source": [
    "## Scatter plot of Budget vs WWMargin per movie\n",
    "Showing movies that had a net loss in BLUE, and a net gain in RED.\n",
    "\n",
    "The scatter plot shows a slight positive correlation for production budget and worldwide margin (return on investment) which supports that the more investment made the more return received."
   ]
  },
  {
   "cell_type": "markdown",
   "metadata": {},
   "source": [
    "margins\n",
    "scatter\n",
    "production budget vs gross profit\n",
    "annotate the range \n",
    "bin the production budget (maybe)\n",
    "after show a chart to talk about risk"
   ]
  },
  {
   "cell_type": "code",
   "execution_count": 26,
   "metadata": {},
   "outputs": [
    {
     "data": {
      "image/png": "[encoded data removed]",
      "text/plain": [
       "<Figure size 1080x720 with 1 Axes>"
      ]
     },
     "metadata": {
      "needs_background": "light"
     },
     "output_type": "display_data"
    }
   ],
   "source": [
    "#ROI vs Production Budget scatter plot\n",
    "fig, ax = plt.subplots(figsize=(15, 10))\n",
    "\n",
    "#plt.title(\"Return on Investment vs Production Budget\", fontsize = 20, weight='bold')\n",
    "plt.xlabel(\"Budget (Millions, USD)\", fontsize = 20, weight='bold')\n",
    "plt.ylabel(\"Worldwide Margin (Billions, USD)\", fontsize = 20, weight='bold')\n",
    "\n",
    "x = movies_directors['production_budget']\n",
    "y = movies_directors['worldwide_margin']\n",
    "\n",
    "plt.scatter(x, y, c = np.sign(y), cmap=plt.cm.coolwarm.reversed())\n",
    "\n",
    "# Fit linear regression via least squares with numpy.polyfit\n",
    "# It returns an slope (b) and intercept (a)\n",
    "# deg=1 means linear fit (i.e. polynomial of degree 1)\n",
    "z = np.polyfit(x, y, 2)\n",
    "p = np.poly1d(z)\n",
    "plt.plot(x,p(x),\"r--\")\n",
    "\n",
    "\n",
    "plt.xticks(fontsize=14, rotation=0)\n",
    "plt.yticks(fontsize=14, rotation=0)\n",
    "plt.show()\n",
    "\n",
    "##r2 is .447 which makes trendline not significant"
   ]
  },
  {
   "cell_type": "code",
   "execution_count": 27,
   "metadata": {
    "scrolled": true
   },
   "outputs": [
    {
     "name": "stdout",
     "output_type": "stream",
     "text": [
      "<function r2_score at 0x7f98c02f8dc0>\n"
     ]
    }
   ],
   "source": [
    "from sklearn.metrics import r2_score\n",
    "print(r2_score)"
   ]
  },
  {
   "cell_type": "code",
   "execution_count": 28,
   "metadata": {
    "scrolled": true
   },
   "outputs": [
    {
     "ename": "NameError",
     "evalue": "name 'y_test' is not defined",
     "output_type": "error",
     "traceback": [
      "\u001b[0;31m---------------------------------------------------------------------------\u001b[0m",
      "\u001b[0;31mNameError\u001b[0m                                 Traceback (most recent call last)",
      "\u001b[0;32m<ipython-input-28-fdd663c9e75c>\u001b[0m in \u001b[0;36m<module>\u001b[0;34m\u001b[0m\n\u001b[1;32m     30\u001b[0m \u001b[0mplt\u001b[0m\u001b[0;34m.\u001b[0m\u001b[0mxticks\u001b[0m\u001b[0;34m(\u001b[0m\u001b[0mfontsize\u001b[0m\u001b[0;34m=\u001b[0m\u001b[0;36m14\u001b[0m\u001b[0;34m,\u001b[0m \u001b[0mrotation\u001b[0m\u001b[0;34m=\u001b[0m\u001b[0;36m0\u001b[0m\u001b[0;34m)\u001b[0m\u001b[0;34m\u001b[0m\u001b[0;34m\u001b[0m\u001b[0m\n\u001b[1;32m     31\u001b[0m \u001b[0mplt\u001b[0m\u001b[0;34m.\u001b[0m\u001b[0myticks\u001b[0m\u001b[0;34m(\u001b[0m\u001b[0mfontsize\u001b[0m\u001b[0;34m=\u001b[0m\u001b[0;36m14\u001b[0m\u001b[0;34m,\u001b[0m \u001b[0mrotation\u001b[0m\u001b[0;34m=\u001b[0m\u001b[0;36m0\u001b[0m\u001b[0;34m)\u001b[0m\u001b[0;34m\u001b[0m\u001b[0;34m\u001b[0m\u001b[0m\n\u001b[0;32m---> 32\u001b[0;31m \u001b[0max\u001b[0m\u001b[0;34m.\u001b[0m\u001b[0mannotate\u001b[0m\u001b[0;34m(\u001b[0m\u001b[0;34m\"r-squared = {:.3f}\"\u001b[0m\u001b[0;34m.\u001b[0m\u001b[0mformat\u001b[0m\u001b[0;34m(\u001b[0m\u001b[0mr2_score\u001b[0m\u001b[0;34m(\u001b[0m\u001b[0my_test\u001b[0m\u001b[0;34m,\u001b[0m \u001b[0my_predicted\u001b[0m\u001b[0;34m)\u001b[0m\u001b[0;34m)\u001b[0m\u001b[0;34m,\u001b[0m \u001b[0;34m(\u001b[0m\u001b[0;36m0\u001b[0m\u001b[0;34m,\u001b[0m \u001b[0;36m1\u001b[0m\u001b[0;34m)\u001b[0m\u001b[0;34m)\u001b[0m\u001b[0;34m\u001b[0m\u001b[0;34m\u001b[0m\u001b[0m\n\u001b[0m\u001b[1;32m     33\u001b[0m \u001b[0mplt\u001b[0m\u001b[0;34m.\u001b[0m\u001b[0mshow\u001b[0m\u001b[0;34m(\u001b[0m\u001b[0;34m)\u001b[0m\u001b[0;34m\u001b[0m\u001b[0;34m\u001b[0m\u001b[0m\n",
      "\u001b[0;31mNameError\u001b[0m: name 'y_test' is not defined"
     ]
    },
    {
     "data": {
      "image/png": "[encoded data removed]",
      "text/plain": [
       "<Figure size 1080x720 with 1 Axes>"
      ]
     },
     "metadata": {
      "needs_background": "light"
     },
     "output_type": "display_data"
    }
   ],
   "source": [
    "fig, ax = plt.subplots(figsize=(15, 10))\n",
    "\n",
    "ax.set(\n",
    "    title = (\"Return on Investment vs Production Budget\"), \n",
    "    xlabel = (\"Budget (Millions of U.S. Dollars)\"),\n",
    "    ylabel = (\"Return On Investment (Billions of U.S. Dollars)\")\n",
    ")\n",
    "\n",
    "#plt.title(\"Return on Investment vs Production Budget\", fontsize = 20, weight='bold')\n",
    "#plt.xlabel(\"Budget (Millions of U.S. Dollars)\", fontsize = 20, weight='bold')\n",
    "#plt.ylabel(\"Worldwide Margin (Billions of U.S. Dollars)\", fontsize = 20, weight='bold')\n",
    "\n",
    "#x = movies_directors['production_budget']\n",
    "#y = movies_directors['worldwide_margin']\n",
    "\n",
    "\n",
    "sns.regplot(\n",
    "    data=movies_directors,\n",
    "    x='production_budget',\n",
    "    y='worldwide_margin',\n",
    "    ci=None,\n",
    ")\n",
    "\n",
    "sns.set(style='whitegrid', font_scale=1.5)\n",
    "\n",
    "#df = pd.DataFrame({'x': movies_directors['production_budget'], 'y': movies_directors['worldwide_margin']})\n",
    "#plt.scatter(df.x, df.y, c = np.sign(df.y), cmap=plt.cm.coolwarm)\n",
    "\n",
    "\n",
    "plt.xticks(fontsize=14, rotation=0)\n",
    "plt.yticks(fontsize=14, rotation=0)\n",
    "ax.annotate(\"r-squared = {:.3f}\".format(r2_score(y_test, y_predicted)), (0, 1))\n",
    "plt.show()"
   ]
  },
  {
   "cell_type": "code",
   "execution_count": 29,
   "metadata": {},
   "outputs": [
    {
     "ename": "SyntaxError",
     "evalue": "invalid syntax (<ipython-input-29-14e008b557ea>, line 1)",
     "output_type": "error",
     "traceback": [
      "\u001b[0;36m  File \u001b[0;32m\"<ipython-input-29-14e008b557ea>\"\u001b[0;36m, line \u001b[0;32m1\u001b[0m\n\u001b[0;31m    https://stackoverflow.com/questions/41635448/how-can-i-draw-scatter-trend-line-on-matplot-python-pandas\u001b[0m\n\u001b[0m          ^\u001b[0m\n\u001b[0;31mSyntaxError\u001b[0m\u001b[0;31m:\u001b[0m invalid syntax\n"
     ]
    }
   ],
   "source": [
    "https://stackoverflow.com/questions/41635448/how-can-i-draw-scatter-trend-line-on-matplot-python-pandas\n",
    "\n",
    "from sklearn.metrics import r2_score\n",
    "\n",
    "plt.plot(x,y,\"+\", ms=10, mec=\"k\")\n",
    "z = np.polyfit(x, y, 1)\n",
    "y_hat = np.poly1d(z)(x)\n",
    "\n",
    "plt.plot(x, y_hat, \"r--\", lw=1)\n",
    "text = f\"$y={z[0]:0.3f}\\;x{z[1]:+0.3f}$\\n$R^2 = {r2_score(y,y_hat):0.3f}$\"\n",
    "plt.gca().text(0.05, 0.95, text,transform=plt.gca().transAxes,\n",
    "     fontsize=14, verticalalignment='top')"
   ]
  },
  {
   "cell_type": "code",
   "execution_count": 30,
   "metadata": {
    "scrolled": true
   },
   "outputs": [
    {
     "data": {
      "image/png": "[encoded data removed]",
      "text/plain": [
       "<Figure size 432x288 with 1 Axes>"
      ]
     },
     "metadata": {},
     "output_type": "display_data"
    }
   ],
   "source": [
    "x = np.arange(10)\n",
    "y = np.sin(x)\n",
    "\n",
    "plt.scatter(x, y, marker='+', s=150, linewidths=4, c=y, cmap=plt.cm.coolwarm)\n",
    "plt.show()"
   ]
  },
  {
   "cell_type": "code",
   "execution_count": 31,
   "metadata": {},
   "outputs": [],
   "source": [
    "#trying to group production budget into 7 groups\n"
   ]
  },
  {
   "cell_type": "code",
   "execution_count": 33,
   "metadata": {},
   "outputs": [
    {
     "data": {
      "text/html": [
       "<div>\n",
       "<style scoped>\n",
       "    .dataframe tbody tr th:only-of-type {\n",
       "        vertical-align: middle;\n",
       "    }\n",
       "\n",
       "    .dataframe tbody tr th {\n",
       "        vertical-align: top;\n",
       "    }\n",
       "\n",
       "    .dataframe thead th {\n",
       "        text-align: right;\n",
       "    }\n",
       "</style>\n",
       "<table border=\"1\" class=\"dataframe\">\n",
       "  <thead>\n",
       "    <tr style=\"text-align: right;\">\n",
       "      <th></th>\n",
       "      <th>id</th>\n",
       "      <th>release_date</th>\n",
       "      <th>movie</th>\n",
       "      <th>production_budget</th>\n",
       "      <th>domestic_gross</th>\n",
       "      <th>worldwide_gross</th>\n",
       "      <th>movie_id</th>\n",
       "      <th>foreign_gross</th>\n",
       "      <th>domestic_margin</th>\n",
       "      <th>worldwide_margin</th>\n",
       "      <th>foreign_margin</th>\n",
       "      <th>primary_title</th>\n",
       "      <th>original_title</th>\n",
       "      <th>start_year</th>\n",
       "      <th>runtime_minutes</th>\n",
       "      <th>genres</th>\n",
       "      <th>person_id</th>\n",
       "      <th>primary_name</th>\n",
       "    </tr>\n",
       "  </thead>\n",
       "  <tbody>\n",
       "    <tr>\n",
       "      <th>0</th>\n",
       "      <td>3</td>\n",
       "      <td>Jun 7, 2019</td>\n",
       "      <td>Dark Phoenix</td>\n",
       "      <td>350000000</td>\n",
       "      <td>42762350</td>\n",
       "      <td>149762350</td>\n",
       "      <td>tt6565702</td>\n",
       "      <td>107000000</td>\n",
       "      <td>-307237650</td>\n",
       "      <td>-200237650</td>\n",
       "      <td>-243000000</td>\n",
       "      <td>Dark Phoenix</td>\n",
       "      <td>Dark Phoenix</td>\n",
       "      <td>2019</td>\n",
       "      <td>113.00</td>\n",
       "      <td>Action,Adventure,Sci-Fi</td>\n",
       "      <td>nm1334526</td>\n",
       "      <td>Simon Kinberg</td>\n",
       "    </tr>\n",
       "    <tr>\n",
       "      <th>1</th>\n",
       "      <td>4</td>\n",
       "      <td>May 1, 2015</td>\n",
       "      <td>Avengers: Age of Ultron</td>\n",
       "      <td>330600000</td>\n",
       "      <td>459005868</td>\n",
       "      <td>1403013963</td>\n",
       "      <td>tt2395427</td>\n",
       "      <td>944008095</td>\n",
       "      <td>128405868</td>\n",
       "      <td>1072413963</td>\n",
       "      <td>613408095</td>\n",
       "      <td>Avengers: Age of Ultron</td>\n",
       "      <td>Avengers: Age of Ultron</td>\n",
       "      <td>2015</td>\n",
       "      <td>141.00</td>\n",
       "      <td>Action,Adventure,Sci-Fi</td>\n",
       "      <td>nm0923736</td>\n",
       "      <td>Joss Whedon</td>\n",
       "    </tr>\n",
       "    <tr>\n",
       "      <th>2</th>\n",
       "      <td>7</td>\n",
       "      <td>Apr 27, 2018</td>\n",
       "      <td>Avengers: Infinity War</td>\n",
       "      <td>300000000</td>\n",
       "      <td>678815482</td>\n",
       "      <td>2048134200</td>\n",
       "      <td>tt4154756</td>\n",
       "      <td>1369318718</td>\n",
       "      <td>378815482</td>\n",
       "      <td>1748134200</td>\n",
       "      <td>1069318718</td>\n",
       "      <td>Avengers: Infinity War</td>\n",
       "      <td>Avengers: Infinity War</td>\n",
       "      <td>2018</td>\n",
       "      <td>149.00</td>\n",
       "      <td>Action,Adventure,Sci-Fi</td>\n",
       "      <td>nm0751648</td>\n",
       "      <td>Joe Russo</td>\n",
       "    </tr>\n",
       "    <tr>\n",
       "      <th>3</th>\n",
       "      <td>7</td>\n",
       "      <td>Apr 27, 2018</td>\n",
       "      <td>Avengers: Infinity War</td>\n",
       "      <td>300000000</td>\n",
       "      <td>678815482</td>\n",
       "      <td>2048134200</td>\n",
       "      <td>tt4154756</td>\n",
       "      <td>1369318718</td>\n",
       "      <td>378815482</td>\n",
       "      <td>1748134200</td>\n",
       "      <td>1069318718</td>\n",
       "      <td>Avengers: Infinity War</td>\n",
       "      <td>Avengers: Infinity War</td>\n",
       "      <td>2018</td>\n",
       "      <td>149.00</td>\n",
       "      <td>Action,Adventure,Sci-Fi</td>\n",
       "      <td>nm0751577</td>\n",
       "      <td>Anthony Russo</td>\n",
       "    </tr>\n",
       "    <tr>\n",
       "      <th>4</th>\n",
       "      <td>9</td>\n",
       "      <td>Nov 17, 2017</td>\n",
       "      <td>Justice League</td>\n",
       "      <td>300000000</td>\n",
       "      <td>229024295</td>\n",
       "      <td>655945209</td>\n",
       "      <td>tt0974015</td>\n",
       "      <td>426920914</td>\n",
       "      <td>-70975705</td>\n",
       "      <td>355945209</td>\n",
       "      <td>126920914</td>\n",
       "      <td>Justice League</td>\n",
       "      <td>Justice League</td>\n",
       "      <td>2017</td>\n",
       "      <td>120.00</td>\n",
       "      <td>Action,Adventure,Fantasy</td>\n",
       "      <td>nm0811583</td>\n",
       "      <td>Zack Snyder</td>\n",
       "    </tr>\n",
       "  </tbody>\n",
       "</table>\n",
       "</div>"
      ],
      "text/plain": [
       "   id  release_date                    movie  production_budget  \\\n",
       "0   3   Jun 7, 2019             Dark Phoenix          350000000   \n",
       "1   4   May 1, 2015  Avengers: Age of Ultron          330600000   \n",
       "2   7  Apr 27, 2018   Avengers: Infinity War          300000000   \n",
       "3   7  Apr 27, 2018   Avengers: Infinity War          300000000   \n",
       "4   9  Nov 17, 2017           Justice League          300000000   \n",
       "\n",
       "   domestic_gross  worldwide_gross   movie_id  foreign_gross  domestic_margin  \\\n",
       "0        42762350        149762350  tt6565702      107000000       -307237650   \n",
       "1       459005868       1403013963  tt2395427      944008095        128405868   \n",
       "2       678815482       2048134200  tt4154756     1369318718        378815482   \n",
       "3       678815482       2048134200  tt4154756     1369318718        378815482   \n",
       "4       229024295        655945209  tt0974015      426920914        -70975705   \n",
       "\n",
       "   worldwide_margin  foreign_margin            primary_title  \\\n",
       "0        -200237650      -243000000             Dark Phoenix   \n",
       "1        1072413963       613408095  Avengers: Age of Ultron   \n",
       "2        1748134200      1069318718   Avengers: Infinity War   \n",
       "3        1748134200      1069318718   Avengers: Infinity War   \n",
       "4         355945209       126920914           Justice League   \n",
       "\n",
       "            original_title  start_year      runtime_minutes  \\\n",
       "0             Dark Phoenix        2019               113.00   \n",
       "1  Avengers: Age of Ultron        2015               141.00   \n",
       "2   Avengers: Infinity War        2018               149.00   \n",
       "3   Avengers: Infinity War        2018               149.00   \n",
       "4           Justice League        2017               120.00   \n",
       "\n",
       "                     genres  person_id   primary_name  \n",
       "0   Action,Adventure,Sci-Fi  nm1334526  Simon Kinberg  \n",
       "1   Action,Adventure,Sci-Fi  nm0923736    Joss Whedon  \n",
       "2   Action,Adventure,Sci-Fi  nm0751648      Joe Russo  \n",
       "3   Action,Adventure,Sci-Fi  nm0751577  Anthony Russo  \n",
       "4  Action,Adventure,Fantasy  nm0811583    Zack Snyder  "
      ]
     },
     "execution_count": 33,
     "metadata": {},
     "output_type": "execute_result"
    }
   ],
   "source": [
    "movies_directors.head()"
   ]
  },
  {
   "cell_type": "markdown",
   "metadata": {},
   "source": [
    "domestic vs foreign vs worldwide\n",
    "might need to target both \n",
    "bar, or scatter"
   ]
  },
  {
   "cell_type": "markdown",
   "metadata": {},
   "source": [
    "could groupby quantile \n",
    "f\"25th Percentile: {np.percentile(data, 25)}\""
   ]
  },
  {
   "cell_type": "code",
   "execution_count": 34,
   "metadata": {},
   "outputs": [],
   "source": [
    "foreign_gross_mean = movies_directors.groupby(['start_year'])['foreign_gross'].mean()"
   ]
  },
  {
   "cell_type": "code",
   "execution_count": 35,
   "metadata": {},
   "outputs": [],
   "source": [
    "domestic_gross_mean = movies_directors.groupby(['start_year'])['domestic_gross'].mean()"
   ]
  },
  {
   "cell_type": "code",
   "execution_count": null,
   "metadata": {},
   "outputs": [],
   "source": [
    "plt.figure(figsize=(10,7.5))\n",
    "\n",
    "ax = sns.lineplot(\n",
    "    x=\"year\", y=\"gross\", hue=\"domfor\", style=\"domfor\", palette=\"Set1\", markers=True, dashes=False ,data=tsps\n",
    ")\n",
    "plt.legend(loc='upper left', labels=['Domestic', 'Foreign'], prop={'size': 20})\n",
    "\n",
    "#plt.title('Domestic vs Foreign Box Office, 2010-2018')\n",
    "plt.xlabel('Year')\n",
    "plt.ylabel('Gross Box Office (Millions of US Dollars)')\n",
    "\n",
    "#font_prop = font_manager.FontProperties(size=20)\n",
    "\n",
    "for item in ([g1.title, g1.xaxis.label, g1.yaxis.label] +\n",
    "             g1.get_xticklabels() + g1.get_yticklabels()):\n",
    "    item.set_fontsize(20)\n",
    "\n",
    "# plt.rc('legend', fontsize=20)\n",
    "plt.savefig(\"1_Graph1DomFor1018.jpg\")\n",
    "plt.show(g1)"
   ]
  },
  {
   "cell_type": "code",
   "execution_count": null,
   "metadata": {},
   "outputs": [],
   "source": []
  },
  {
   "cell_type": "code",
   "execution_count": null,
   "metadata": {},
   "outputs": [],
   "source": []
  },
  {
   "cell_type": "code",
   "execution_count": null,
   "metadata": {},
   "outputs": [],
   "source": []
  },
  {
   "cell_type": "markdown",
   "metadata": {},
   "source": [
    "## Presentation\n",
    "https://www.canva.com/design/DAFcoKlEQ0E/62vWavt46L7VwiBMaU1scg/edit"
   ]
  },
  {
   "cell_type": "code",
   "execution_count": null,
   "metadata": {},
   "outputs": [],
   "source": []
  }
 ],
 "metadata": {
  "kernelspec": {
   "display_name": "Python (learn-env)",
   "language": "python",
   "name": "learn-env"
  },
  "language_info": {
   "codemirror_mode": {
    "name": "ipython",
    "version": 3
   },
   "file_extension": ".py",
   "mimetype": "text/x-python",
   "name": "python",
   "nbconvert_exporter": "python",
   "pygments_lexer": "ipython3",
   "version": "3.8.5"
  }
 },
 "nbformat": 4,
 "nbformat_minor": 5
}
